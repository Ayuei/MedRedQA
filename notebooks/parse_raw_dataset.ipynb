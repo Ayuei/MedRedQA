{
 "cells": [
  {
   "cell_type": "code",
   "execution_count": 1,
   "id": "f87bccae-c189-45c5-a48f-cc9bef1d6e4d",
   "metadata": {
    "pycharm": {
     "name": "#%%\n"
    }
   },
   "outputs": [],
   "source": [
    "import json\n",
    "import tqdm\n",
    "import pandas as pd\n",
    "\n",
    "filters = []\n",
    "\n",
    "def check_filter(json_line):\n",
    "    for filt in filters:\n",
    "        if filt(json_line):\n",
    "            return True\n",
    "\n",
    "    return False"
   ]
  },
  {
   "cell_type": "code",
   "execution_count": 2,
   "id": "bfb5213d-3635-489d-a3f8-aced7ef04681",
   "metadata": {
    "pycharm": {
     "name": "#%%\n"
    }
   },
   "outputs": [
    {
     "name": "stderr",
     "output_type": "stream",
     "text": [
      "/tmp/ipykernel_1743720/1722438381.py:1: DtypeWarning: Columns (0,7,8,9,10,14,15,16,17,18,20,22,24,27,28,30,32,34,35,36,39,40,41,42,43,51,53,55,60,62,63,64,65,66,67,68,69,70,73,74,75,76,79,82,84,86,89,90,92,93,94,96,102,104,105,106,107,108,109,111,112,114,115,116,117,118) have mixed types. Specify dtype option on import or set low_memory=False.\n",
      "  data_submission = pd.read_csv(\"askdocs_submissions.csv\")\n"
     ]
    }
   ],
   "source": [
    "data_submission = pd.read_csv(\"askdocs_submissions.csv\")"
   ]
  },
  {
   "cell_type": "code",
   "execution_count": 3,
   "id": "6b6ea34e-c8b0-4232-bcde-83eaf29ce018",
   "metadata": {
    "pycharm": {
     "name": "#%%\n"
    },
    "scrolled": true,
    "tags": []
   },
   "outputs": [
    {
     "name": "stderr",
     "output_type": "stream",
     "text": [
      "/tmp/ipykernel_1743720/214341143.py:11: TqdmDeprecationWarning: This function will be removed in tqdm==5.0.0\n",
      "Please use `tqdm.notebook.tqdm` instead of `tqdm.tqdm_notebook`\n",
      "  for row_id, row in tqdm.tqdm_notebook(data_submission.iterrows()):\n"
     ]
    },
    {
     "data": {
      "application/vnd.jupyter.widget-view+json": {
       "model_id": "f454cc02b8814f87b9fab82b0f0db78c",
       "version_major": 2,
       "version_minor": 0
      },
      "text/plain": [
       "0it [00:00, ?it/s]"
      ]
     },
     "metadata": {},
     "output_type": "display_data"
    }
   ],
   "source": [
    "parsed_data = {}\n",
    "pruned_ids = []\n",
    "\n",
    "filters = [\n",
    "    lambda k: not isinstance(k['selftext'], str),\n",
    "    lambda k: \"[removed]\" in k['selftext'],\n",
    "    lambda k: k['banned_at_utc'] > 0,\n",
    "    lambda k: len(k['selftext']) < 5,\n",
    "]\n",
    "\n",
    "for row_id, row in tqdm.tqdm_notebook(data_submission.iterrows()):\n",
    "    if check_filter(row):\n",
    "        pruned_ids.append(row['id'])\n",
    "    else:\n",
    "        _id = row['id']\n",
    "        assert _id is not parsed_data\n",
    "\n",
    "        row['comments'] = []\n",
    "\n",
    "        parsed_data[_id] = row"
   ]
  },
  {
   "cell_type": "code",
   "execution_count": 4,
   "id": "78dac745-11fd-4917-9a56-aa464dece073",
   "metadata": {
    "pycharm": {
     "name": "#%%\n"
    }
   },
   "outputs": [
    {
     "data": {
      "text/plain": [
       "597504"
      ]
     },
     "execution_count": 4,
     "metadata": {},
     "output_type": "execute_result"
    }
   ],
   "source": [
    "len(parsed_data)"
   ]
  },
  {
   "cell_type": "code",
   "execution_count": 5,
   "id": "d980601f-43aa-4599-a2d2-422ff44cfa3f",
   "metadata": {
    "pycharm": {
     "name": "#%%\n"
    }
   },
   "outputs": [
    {
     "data": {
      "text/plain": [
       "235795"
      ]
     },
     "execution_count": 5,
     "metadata": {},
     "output_type": "execute_result"
    }
   ],
   "source": [
    "len(pruned_ids)"
   ]
  },
  {
   "cell_type": "code",
   "execution_count": 6,
   "id": "c2e1795e-2d30-4e98-a398-8b6adada4707",
   "metadata": {
    "pycharm": {
     "name": "#%%\n"
    }
   },
   "outputs": [
    {
     "name": "stderr",
     "output_type": "stream",
     "text": [
      "/tmp/ipykernel_1743720/2725224578.py:1: DtypeWarning: Columns (3,6,8,10,11,12,15,18,20,22,23,24,25,27,29,30,34,35,41,44,46,51,53,57,60,65,71,73,75) have mixed types. Specify dtype option on import or set low_memory=False.\n",
      "  data_comments = pd.read_csv(\"duplicates_removed.csv\")\n"
     ]
    }
   ],
   "source": [
    "data_comments = pd.read_csv(\"duplicates_removed.csv\")"
   ]
  },
  {
   "cell_type": "code",
   "execution_count": 7,
   "id": "3b636074-1ca1-43f0-936f-1e6abc9d1457",
   "metadata": {},
   "outputs": [],
   "source": [
    "class CommentNode:\n",
    "    def __init__(self, comment):\n",
    "        self.id = comment['id']\n",
    "        self.comment = comment\n",
    "        self.children = []\n",
    "\n",
    "\n",
    "class CommentTree:\n",
    "    def __init__(self, root):\n",
    "        self.root = root"
   ]
  },
  {
   "cell_type": "code",
   "execution_count": 8,
   "id": "80924f4c-d75b-40fd-9581-c4224d687849",
   "metadata": {
    "pycharm": {
     "name": "#%%\n"
    },
    "tags": []
   },
   "outputs": [
    {
     "name": "stderr",
     "output_type": "stream",
     "text": [
      "/tmp/ipykernel_1743720/2965173668.py:15: TqdmDeprecationWarning: This function will be removed in tqdm==5.0.0\n",
      "Please use `tqdm.notebook.tqdm` instead of `tqdm.tqdm_notebook`\n",
      "  for row_id, row in tqdm.tqdm_notebook(data_comments.iterrows()):\n"
     ]
    },
    {
     "data": {
      "application/vnd.jupyter.widget-view+json": {
       "model_id": "52f23233e4f24353889a82536ffb8cdb",
       "version_major": 2,
       "version_minor": 0
      },
      "text/plain": [
       "0it [00:00, ?it/s]"
      ]
     },
     "metadata": {},
     "output_type": "display_data"
    }
   ],
   "source": [
    "parsed_data_comments = []\n",
    "pruned_ids_comments = []\n",
    "\n",
    "filters = [\n",
    "    lambda k: not isinstance(k['body'], str),\n",
    "    lambda k: \"[removed]\" in k['body'],\n",
    "    lambda k: k['author'] == 'AutoModerator',\n",
    "    lambda k: len(k['body']) < 5,\n",
    "]\n",
    "\n",
    "misses = 0\n",
    "missesed = []\n",
    "hits = 0\n",
    "\n",
    "for row_id, row in tqdm.tqdm_notebook(data_comments.iterrows()):\n",
    "    if check_filter(row):\n",
    "        pruned_ids_comments.append(row['id'])\n",
    "    else:\n",
    "        try:\n",
    "            link_type, parent_id = row['link_id'].split(\"_\")\n",
    "        except:\n",
    "            missesed.append(row)\n",
    "            misses += 1\n",
    "            continue\n",
    "\n",
    "        if parent_id not in parsed_data:\n",
    "            missesed.append(row)\n",
    "            misses += 1\n",
    "            continue\n",
    "\n",
    "        parsed_data[parent_id]['comments'].append(row)\n",
    "        hits += 1"
   ]
  },
  {
   "cell_type": "code",
   "execution_count": null,
   "id": "bbaff6ce-6433-46a5-9575-ba3cfbf1554d",
   "metadata": {},
   "outputs": [],
   "source": [
    "len(pruned_ids_comments)"
   ]
  },
  {
   "cell_type": "code",
   "execution_count": 9,
   "id": "eaae4a7d-8036-4864-83bf-5549d4a43025",
   "metadata": {
    "pycharm": {
     "name": "#%%\n"
    }
   },
   "outputs": [
    {
     "data": {
      "text/plain": [
       "64034"
      ]
     },
     "execution_count": 9,
     "metadata": {},
     "output_type": "execute_result"
    }
   ],
   "source": [
    "misses"
   ]
  },
  {
   "cell_type": "code",
   "execution_count": 10,
   "id": "898c2ce9-f171-4710-83c6-af13ac6bb975",
   "metadata": {},
   "outputs": [
    {
     "data": {
      "text/plain": [
       "1276396"
      ]
     },
     "execution_count": 10,
     "metadata": {},
     "output_type": "execute_result"
    }
   ],
   "source": [
    "hits"
   ]
  },
  {
   "cell_type": "code",
   "execution_count": 11,
   "id": "0ce07af7-44cf-4719-a4a6-2520a8ba4430",
   "metadata": {
    "pycharm": {
     "name": "#%%\n"
    }
   },
   "outputs": [],
   "source": [
    "import dill\n",
    "\n",
    "data = dill.dump(parsed_data, open(\"data.pkl\", \"wb+\"))"
   ]
  },
  {
   "cell_type": "code",
   "execution_count": 1,
   "id": "21d31e33-27a9-4c6a-8722-58001d4ac28e",
   "metadata": {
    "pycharm": {
     "name": "#%%\n"
    }
   },
   "outputs": [],
   "source": [
    "import dill\n",
    "\n",
    "data = dill.load(open(\"data.pkl\", \"rb\"))"
   ]
  },
  {
   "cell_type": "code",
   "execution_count": 2,
   "id": "bc71b90b-978b-4f33-a6b1-1b851a961cf6",
   "metadata": {
    "pycharm": {
     "name": "#%%\n"
    }
   },
   "outputs": [
    {
     "data": {
      "text/plain": [
       "'2t21wk'"
      ]
     },
     "execution_count": 2,
     "metadata": {},
     "output_type": "execute_result"
    }
   ],
   "source": [
    "list(data.keys())[-99]"
   ]
  },
  {
   "cell_type": "code",
   "execution_count": 3,
   "id": "40c1b7ba-a776-4150-aba3-4416159334f0",
   "metadata": {
    "pycharm": {
     "name": "#%%\n"
    }
   },
   "outputs": [
    {
     "data": {
      "text/plain": [
       "[]"
      ]
     },
     "execution_count": 3,
     "metadata": {},
     "output_type": "execute_result"
    }
   ],
   "source": [
    "data['2t21wk']['comments']"
   ]
  },
  {
   "cell_type": "code",
   "execution_count": 4,
   "id": "76fca8ae-7ff4-4936-bce0-fa07ce9c4372",
   "metadata": {
    "pycharm": {
     "name": "#%%\n"
    }
   },
   "outputs": [
    {
     "data": {
      "text/plain": [
       "272529"
      ]
     },
     "execution_count": 4,
     "metadata": {},
     "output_type": "execute_result"
    }
   ],
   "source": [
    "comments = list(filter(lambda k: len(k['comments']) > 0, data.values()))\n",
    "len(comments)"
   ]
  },
  {
   "cell_type": "code",
   "execution_count": 5,
   "id": "c777d3b3-ff4f-4951-87a2-b1e9baae2cd1",
   "metadata": {
    "pycharm": {
     "name": "#%%\n"
    }
   },
   "outputs": [
    {
     "data": {
      "text/plain": [
       "304551"
      ]
     },
     "execution_count": 5,
     "metadata": {},
     "output_type": "execute_result"
    }
   ],
   "source": [
    "num_comments = list(filter(lambda k: isinstance(k['num_comments'], int) and int(k['num_comments']) > 1, data.values()))\n",
    "len(num_comments)"
   ]
  },
  {
   "cell_type": "code",
   "execution_count": 75,
   "id": "32d699d4",
   "metadata": {},
   "outputs": [
    {
     "name": "stderr",
     "output_type": "stream",
     "text": [
      "/tmp/ipykernel_11611/3423019674.py:10: TqdmDeprecationWarning: This function will be removed in tqdm==5.0.0\n",
      "Please use `tqdm.notebook.tqdm` instead of `tqdm.tqdm_notebook`\n",
      "  for _, row in tqdm.tqdm_notebook(df.iterrows(), total=len(df)):\n"
     ]
    },
    {
     "data": {
      "application/vnd.jupyter.widget-view+json": {
       "model_id": "5b9d8a20cf1b4e45907c036b41b3b51c",
       "version_major": 2,
       "version_minor": 0
      },
      "text/plain": [
       "  0%|          | 0/8565178 [00:00<?, ?it/s]"
      ]
     },
     "metadata": {},
     "output_type": "display_data"
    }
   ],
   "source": [
    "# Setup fast search hashmap\n",
    "import pandas as pd\n",
    "import tqdm\n",
    "\n",
    "id_normalize = {}\n",
    "\n",
    "df = pd.read_csv(\"PMC-ids.csv\", dtype=str)\n",
    "\n",
    "for _, row in tqdm.tqdm_notebook(df.iterrows(), total=len(df)):\n",
    "    doi, pmcid, pmid, manuscript_id = list(map(lambda k: str(k), [row['DOI'], row['PMCID'], row['PMID'], row['Manuscript Id']]))\n",
    "    \n",
    "    id_normalize[doi] = pmcid\n",
    "    id_normalize[pmid] = pmcid\n",
    "    id_normalize[manuscript_id] = pmcid\n",
    "    id_normalize[pmcid] = pmid"
   ]
  },
  {
   "cell_type": "code",
   "execution_count": 50,
   "id": "1eeb346b",
   "metadata": {
    "collapsed": true,
    "jupyter": {
     "outputs_hidden": true,
     "source_hidden": true
    },
    "tags": []
   },
   "outputs": [
    {
     "ename": "AttributeError",
     "evalue": "partially initialized module 'nltk' has no attribute 'data' (most likely due to a circular import)",
     "output_type": "error",
     "traceback": [
      "\u001b[0;31m---------------------------------------------------------------------------\u001b[0m",
      "\u001b[0;31mAttributeError\u001b[0m                            Traceback (most recent call last)",
      "Cell \u001b[0;32mIn [50], line 1\u001b[0m\n\u001b[0;32m----> 1\u001b[0m \u001b[38;5;28;01mimport\u001b[39;00m \u001b[38;5;21;01mnltk\u001b[39;00m\n\u001b[1;32m      3\u001b[0m hits \u001b[38;5;241m=\u001b[39m \u001b[38;5;241m0\u001b[39m\n\u001b[1;32m      5\u001b[0m \u001b[38;5;28;01mdef\u001b[39;00m \u001b[38;5;21mfind_and_normalize\u001b[39m(s):\n",
      "File \u001b[0;32m~/PycharmProjects/BioRedditLearn/venv/lib/python3.10/site-packages/nltk/__init__.py:152\u001b[0m\n\u001b[1;32m    150\u001b[0m \u001b[38;5;28;01mfrom\u001b[39;00m \u001b[38;5;21;01mnltk\u001b[39;00m\u001b[38;5;21;01m.\u001b[39;00m\u001b[38;5;21;01mtag\u001b[39;00m \u001b[38;5;28;01mimport\u001b[39;00m \u001b[38;5;241m*\u001b[39m\n\u001b[1;32m    151\u001b[0m \u001b[38;5;28;01mfrom\u001b[39;00m \u001b[38;5;21;01mnltk\u001b[39;00m\u001b[38;5;21;01m.\u001b[39;00m\u001b[38;5;21;01mtokenize\u001b[39;00m \u001b[38;5;28;01mimport\u001b[39;00m \u001b[38;5;241m*\u001b[39m\n\u001b[0;32m--> 152\u001b[0m \u001b[38;5;28;01mfrom\u001b[39;00m \u001b[38;5;21;01mnltk\u001b[39;00m\u001b[38;5;21;01m.\u001b[39;00m\u001b[38;5;21;01mtranslate\u001b[39;00m \u001b[38;5;28;01mimport\u001b[39;00m \u001b[38;5;241m*\u001b[39m\n\u001b[1;32m    153\u001b[0m \u001b[38;5;28;01mfrom\u001b[39;00m \u001b[38;5;21;01mnltk\u001b[39;00m\u001b[38;5;21;01m.\u001b[39;00m\u001b[38;5;21;01mtree\u001b[39;00m \u001b[38;5;28;01mimport\u001b[39;00m \u001b[38;5;241m*\u001b[39m\n\u001b[1;32m    154\u001b[0m \u001b[38;5;28;01mfrom\u001b[39;00m \u001b[38;5;21;01mnltk\u001b[39;00m\u001b[38;5;21;01m.\u001b[39;00m\u001b[38;5;21;01msem\u001b[39;00m \u001b[38;5;28;01mimport\u001b[39;00m \u001b[38;5;241m*\u001b[39m\n",
      "File \u001b[0;32m~/PycharmProjects/BioRedditLearn/venv/lib/python3.10/site-packages/nltk/translate/__init__.py:24\u001b[0m\n\u001b[1;32m     22\u001b[0m \u001b[38;5;28;01mfrom\u001b[39;00m \u001b[38;5;21;01mnltk\u001b[39;00m\u001b[38;5;21;01m.\u001b[39;00m\u001b[38;5;21;01mtranslate\u001b[39;00m\u001b[38;5;21;01m.\u001b[39;00m\u001b[38;5;21;01mbleu_score\u001b[39;00m \u001b[38;5;28;01mimport\u001b[39;00m sentence_bleu \u001b[38;5;28;01mas\u001b[39;00m bleu\n\u001b[1;32m     23\u001b[0m \u001b[38;5;28;01mfrom\u001b[39;00m \u001b[38;5;21;01mnltk\u001b[39;00m\u001b[38;5;21;01m.\u001b[39;00m\u001b[38;5;21;01mtranslate\u001b[39;00m\u001b[38;5;21;01m.\u001b[39;00m\u001b[38;5;21;01mribes_score\u001b[39;00m \u001b[38;5;28;01mimport\u001b[39;00m sentence_ribes \u001b[38;5;28;01mas\u001b[39;00m ribes\n\u001b[0;32m---> 24\u001b[0m \u001b[38;5;28;01mfrom\u001b[39;00m \u001b[38;5;21;01mnltk\u001b[39;00m\u001b[38;5;21;01m.\u001b[39;00m\u001b[38;5;21;01mtranslate\u001b[39;00m\u001b[38;5;21;01m.\u001b[39;00m\u001b[38;5;21;01mmeteor_score\u001b[39;00m \u001b[38;5;28;01mimport\u001b[39;00m meteor_score \u001b[38;5;28;01mas\u001b[39;00m meteor\n\u001b[1;32m     25\u001b[0m \u001b[38;5;28;01mfrom\u001b[39;00m \u001b[38;5;21;01mnltk\u001b[39;00m\u001b[38;5;21;01m.\u001b[39;00m\u001b[38;5;21;01mtranslate\u001b[39;00m\u001b[38;5;21;01m.\u001b[39;00m\u001b[38;5;21;01mmetrics\u001b[39;00m \u001b[38;5;28;01mimport\u001b[39;00m alignment_error_rate\n\u001b[1;32m     26\u001b[0m \u001b[38;5;28;01mfrom\u001b[39;00m \u001b[38;5;21;01mnltk\u001b[39;00m\u001b[38;5;21;01m.\u001b[39;00m\u001b[38;5;21;01mtranslate\u001b[39;00m\u001b[38;5;21;01m.\u001b[39;00m\u001b[38;5;21;01mstack_decoder\u001b[39;00m \u001b[38;5;28;01mimport\u001b[39;00m StackDecoder\n",
      "File \u001b[0;32m~/PycharmProjects/BioRedditLearn/venv/lib/python3.10/site-packages/nltk/translate/meteor_score.py:13\u001b[0m\n\u001b[1;32m     10\u001b[0m \u001b[38;5;28;01mfrom\u001b[39;00m \u001b[38;5;21;01mitertools\u001b[39;00m \u001b[38;5;28;01mimport\u001b[39;00m chain, product\n\u001b[1;32m     11\u001b[0m \u001b[38;5;28;01mfrom\u001b[39;00m \u001b[38;5;21;01mtyping\u001b[39;00m \u001b[38;5;28;01mimport\u001b[39;00m Callable, Iterable, List, Tuple\n\u001b[0;32m---> 13\u001b[0m \u001b[38;5;28;01mfrom\u001b[39;00m \u001b[38;5;21;01mnltk\u001b[39;00m\u001b[38;5;21;01m.\u001b[39;00m\u001b[38;5;21;01mcorpus\u001b[39;00m \u001b[38;5;28;01mimport\u001b[39;00m WordNetCorpusReader, wordnet\n\u001b[1;32m     14\u001b[0m \u001b[38;5;28;01mfrom\u001b[39;00m \u001b[38;5;21;01mnltk\u001b[39;00m\u001b[38;5;21;01m.\u001b[39;00m\u001b[38;5;21;01mstem\u001b[39;00m\u001b[38;5;21;01m.\u001b[39;00m\u001b[38;5;21;01mapi\u001b[39;00m \u001b[38;5;28;01mimport\u001b[39;00m StemmerI\n\u001b[1;32m     15\u001b[0m \u001b[38;5;28;01mfrom\u001b[39;00m \u001b[38;5;21;01mnltk\u001b[39;00m\u001b[38;5;21;01m.\u001b[39;00m\u001b[38;5;21;01mstem\u001b[39;00m\u001b[38;5;21;01m.\u001b[39;00m\u001b[38;5;21;01mporter\u001b[39;00m \u001b[38;5;28;01mimport\u001b[39;00m PorterStemmer\n",
      "File \u001b[0;32m~/PycharmProjects/BioRedditLearn/venv/lib/python3.10/site-packages/nltk/corpus/__init__.py:64\u001b[0m\n\u001b[1;32m      9\u001b[0m \u001b[38;5;124;03m\"\"\"\u001b[39;00m\n\u001b[1;32m     10\u001b[0m \u001b[38;5;124;03mNLTK corpus readers.  The modules in this package provide functions\u001b[39;00m\n\u001b[1;32m     11\u001b[0m \u001b[38;5;124;03mthat can be used to read corpus files in a variety of formats.  These\u001b[39;00m\n\u001b[0;32m   (...)\u001b[0m\n\u001b[1;32m     59\u001b[0m \n\u001b[1;32m     60\u001b[0m \u001b[38;5;124;03m\"\"\"\u001b[39;00m\n\u001b[1;32m     62\u001b[0m \u001b[38;5;28;01mimport\u001b[39;00m \u001b[38;5;21;01mre\u001b[39;00m\n\u001b[0;32m---> 64\u001b[0m \u001b[38;5;28;01mfrom\u001b[39;00m \u001b[38;5;21;01mnltk\u001b[39;00m\u001b[38;5;21;01m.\u001b[39;00m\u001b[38;5;21;01mcorpus\u001b[39;00m\u001b[38;5;21;01m.\u001b[39;00m\u001b[38;5;21;01mreader\u001b[39;00m \u001b[38;5;28;01mimport\u001b[39;00m \u001b[38;5;241m*\u001b[39m\n\u001b[1;32m     65\u001b[0m \u001b[38;5;28;01mfrom\u001b[39;00m \u001b[38;5;21;01mnltk\u001b[39;00m\u001b[38;5;21;01m.\u001b[39;00m\u001b[38;5;21;01mcorpus\u001b[39;00m\u001b[38;5;21;01m.\u001b[39;00m\u001b[38;5;21;01mutil\u001b[39;00m \u001b[38;5;28;01mimport\u001b[39;00m LazyCorpusLoader\n\u001b[1;32m     66\u001b[0m \u001b[38;5;28;01mfrom\u001b[39;00m \u001b[38;5;21;01mnltk\u001b[39;00m\u001b[38;5;21;01m.\u001b[39;00m\u001b[38;5;21;01mtokenize\u001b[39;00m \u001b[38;5;28;01mimport\u001b[39;00m RegexpTokenizer\n",
      "File \u001b[0;32m~/PycharmProjects/BioRedditLearn/venv/lib/python3.10/site-packages/nltk/corpus/reader/__init__.py:57\u001b[0m\n\u001b[1;32m      1\u001b[0m \u001b[38;5;66;03m# Natural Language Toolkit: Corpus Readers\u001b[39;00m\n\u001b[1;32m      2\u001b[0m \u001b[38;5;66;03m#\u001b[39;00m\n\u001b[1;32m      3\u001b[0m \u001b[38;5;66;03m# Copyright (C) 2001-2022 NLTK Project\u001b[39;00m\n\u001b[0;32m   (...)\u001b[0m\n\u001b[1;32m      6\u001b[0m \u001b[38;5;66;03m# URL: <https://www.nltk.org/>\u001b[39;00m\n\u001b[1;32m      7\u001b[0m \u001b[38;5;66;03m# For license information, see LICENSE.TXT\u001b[39;00m\n\u001b[1;32m      9\u001b[0m \u001b[38;5;124;03m\"\"\"\u001b[39;00m\n\u001b[1;32m     10\u001b[0m \u001b[38;5;124;03mNLTK corpus readers.  The modules in this package provide functions\u001b[39;00m\n\u001b[1;32m     11\u001b[0m \u001b[38;5;124;03mthat can be used to read corpus fileids in a variety of formats.  These\u001b[39;00m\n\u001b[0;32m   (...)\u001b[0m\n\u001b[1;32m     54\u001b[0m \u001b[38;5;124;03misort:skip_file\u001b[39;00m\n\u001b[1;32m     55\u001b[0m \u001b[38;5;124;03m\"\"\"\u001b[39;00m\n\u001b[0;32m---> 57\u001b[0m \u001b[38;5;28;01mfrom\u001b[39;00m \u001b[38;5;21;01mnltk\u001b[39;00m\u001b[38;5;21;01m.\u001b[39;00m\u001b[38;5;21;01mcorpus\u001b[39;00m\u001b[38;5;21;01m.\u001b[39;00m\u001b[38;5;21;01mreader\u001b[39;00m\u001b[38;5;21;01m.\u001b[39;00m\u001b[38;5;21;01mplaintext\u001b[39;00m \u001b[38;5;28;01mimport\u001b[39;00m \u001b[38;5;241m*\u001b[39m\n\u001b[1;32m     58\u001b[0m \u001b[38;5;28;01mfrom\u001b[39;00m \u001b[38;5;21;01mnltk\u001b[39;00m\u001b[38;5;21;01m.\u001b[39;00m\u001b[38;5;21;01mcorpus\u001b[39;00m\u001b[38;5;21;01m.\u001b[39;00m\u001b[38;5;21;01mreader\u001b[39;00m\u001b[38;5;21;01m.\u001b[39;00m\u001b[38;5;21;01mutil\u001b[39;00m \u001b[38;5;28;01mimport\u001b[39;00m \u001b[38;5;241m*\u001b[39m\n\u001b[1;32m     59\u001b[0m \u001b[38;5;28;01mfrom\u001b[39;00m \u001b[38;5;21;01mnltk\u001b[39;00m\u001b[38;5;21;01m.\u001b[39;00m\u001b[38;5;21;01mcorpus\u001b[39;00m\u001b[38;5;21;01m.\u001b[39;00m\u001b[38;5;21;01mreader\u001b[39;00m\u001b[38;5;21;01m.\u001b[39;00m\u001b[38;5;21;01mapi\u001b[39;00m \u001b[38;5;28;01mimport\u001b[39;00m \u001b[38;5;241m*\u001b[39m\n",
      "File \u001b[0;32m~/PycharmProjects/BioRedditLearn/venv/lib/python3.10/site-packages/nltk/corpus/reader/plaintext.py:20\u001b[0m\n\u001b[1;32m     16\u001b[0m \u001b[38;5;28;01mfrom\u001b[39;00m \u001b[38;5;21;01mnltk\u001b[39;00m\u001b[38;5;21;01m.\u001b[39;00m\u001b[38;5;21;01mcorpus\u001b[39;00m\u001b[38;5;21;01m.\u001b[39;00m\u001b[38;5;21;01mreader\u001b[39;00m\u001b[38;5;21;01m.\u001b[39;00m\u001b[38;5;21;01mutil\u001b[39;00m \u001b[38;5;28;01mimport\u001b[39;00m \u001b[38;5;241m*\u001b[39m\n\u001b[1;32m     17\u001b[0m \u001b[38;5;28;01mfrom\u001b[39;00m \u001b[38;5;21;01mnltk\u001b[39;00m\u001b[38;5;21;01m.\u001b[39;00m\u001b[38;5;21;01mtokenize\u001b[39;00m \u001b[38;5;28;01mimport\u001b[39;00m \u001b[38;5;241m*\u001b[39m\n\u001b[0;32m---> 20\u001b[0m \u001b[38;5;28;01mclass\u001b[39;00m \u001b[38;5;21;01mPlaintextCorpusReader\u001b[39;00m(CorpusReader):\n\u001b[1;32m     21\u001b[0m     \u001b[38;5;124;03m\"\"\"\u001b[39;00m\n\u001b[1;32m     22\u001b[0m \u001b[38;5;124;03m    Reader for corpora that consist of plaintext documents.  Paragraphs\u001b[39;00m\n\u001b[1;32m     23\u001b[0m \u001b[38;5;124;03m    are assumed to be split using blank lines.  Sentences and words can\u001b[39;00m\n\u001b[0;32m   (...)\u001b[0m\n\u001b[1;32m     29\u001b[0m \u001b[38;5;124;03m    overriding the ``CorpusView`` class variable.\u001b[39;00m\n\u001b[1;32m     30\u001b[0m \u001b[38;5;124;03m    \"\"\"\u001b[39;00m\n\u001b[1;32m     32\u001b[0m     CorpusView \u001b[38;5;241m=\u001b[39m StreamBackedCorpusView\n",
      "File \u001b[0;32m~/PycharmProjects/BioRedditLearn/venv/lib/python3.10/site-packages/nltk/corpus/reader/plaintext.py:42\u001b[0m, in \u001b[0;36mPlaintextCorpusReader\u001b[0;34m()\u001b[0m\n\u001b[1;32m     32\u001b[0m CorpusView \u001b[38;5;241m=\u001b[39m StreamBackedCorpusView\n\u001b[1;32m     33\u001b[0m \u001b[38;5;124;03m\"\"\"The corpus view class used by this reader.  Subclasses of\u001b[39;00m\n\u001b[1;32m     34\u001b[0m \u001b[38;5;124;03m   ``PlaintextCorpusReader`` may specify alternative corpus view\u001b[39;00m\n\u001b[1;32m     35\u001b[0m \u001b[38;5;124;03m   classes (e.g., to skip the preface sections of documents.)\"\"\"\u001b[39;00m\n\u001b[1;32m     37\u001b[0m \u001b[38;5;28;01mdef\u001b[39;00m \u001b[38;5;21m__init__\u001b[39m(\n\u001b[1;32m     38\u001b[0m     \u001b[38;5;28mself\u001b[39m,\n\u001b[1;32m     39\u001b[0m     root,\n\u001b[1;32m     40\u001b[0m     fileids,\n\u001b[1;32m     41\u001b[0m     word_tokenizer\u001b[38;5;241m=\u001b[39mWordPunctTokenizer(),\n\u001b[0;32m---> 42\u001b[0m     sent_tokenizer\u001b[38;5;241m=\u001b[39m\u001b[43mnltk\u001b[49m\u001b[38;5;241;43m.\u001b[39;49m\u001b[43mdata\u001b[49m\u001b[38;5;241m.\u001b[39mLazyLoader(\u001b[38;5;124m\"\u001b[39m\u001b[38;5;124mtokenizers/punkt/english.pickle\u001b[39m\u001b[38;5;124m\"\u001b[39m),\n\u001b[1;32m     43\u001b[0m     para_block_reader\u001b[38;5;241m=\u001b[39mread_blankline_block,\n\u001b[1;32m     44\u001b[0m     encoding\u001b[38;5;241m=\u001b[39m\u001b[38;5;124m\"\u001b[39m\u001b[38;5;124mutf8\u001b[39m\u001b[38;5;124m\"\u001b[39m,\n\u001b[1;32m     45\u001b[0m ):\n\u001b[1;32m     46\u001b[0m     \u001b[38;5;124mr\u001b[39m\u001b[38;5;124;03m\"\"\"\u001b[39;00m\n\u001b[1;32m     47\u001b[0m \u001b[38;5;124;03m    Construct a new plaintext corpus reader for a set of documents\u001b[39;00m\n\u001b[1;32m     48\u001b[0m \u001b[38;5;124;03m    located at the given root directory.  Example usage:\u001b[39;00m\n\u001b[0;32m   (...)\u001b[0m\n\u001b[1;32m     60\u001b[0m \u001b[38;5;124;03m        corpus into paragraph blocks.\u001b[39;00m\n\u001b[1;32m     61\u001b[0m \u001b[38;5;124;03m    \"\"\"\u001b[39;00m\n\u001b[1;32m     62\u001b[0m     CorpusReader\u001b[38;5;241m.\u001b[39m\u001b[38;5;21m__init__\u001b[39m(\u001b[38;5;28mself\u001b[39m, root, fileids, encoding)\n",
      "\u001b[0;31mAttributeError\u001b[0m: partially initialized module 'nltk' has no attribute 'data' (most likely due to a circular import)"
     ]
    }
   ],
   "source": [
    "import nltk\n",
    "\n",
    "hits = 0\n",
    "\n",
    "def find_and_normalize(s):\n",
    "    global hits\n",
    "    ids = []\n",
    "    tokens = nltk.tokenize.word_tokenize(s)\n",
    "\n",
    "    for token in tokens:\n",
    "        if token in id_normalize:\n",
    "            pmcid = id_normalize[token].strip()\n",
    "            pmid = id_normalize[pmcid].strip()\n",
    "\n",
    "            if pmcid:\n",
    "                ids.append(pmcid)\n",
    "\n",
    "            if pmid:\n",
    "                ids.append(pmid)\n",
    "\n",
    "            hits += 1\n",
    "\n",
    "    return ids\n",
    "\n",
    "\n",
    "def pubmed_url_parse():\n",
    "    pass"
   ]
  },
  {
   "cell_type": "code",
   "execution_count": null,
   "id": "dd436e55-c33e-4aec-8671-44d8d3f48046",
   "metadata": {
    "pycharm": {
     "name": "#%%\n"
    }
   },
   "outputs": [],
   "source": [
    "counts = 0\n",
    "lines = []\n",
    "\n",
    "for document in tqdm.notebook.tqdm(comments):\n",
    "    for i, comment in enumerate(document['comments']):\n",
    "        flag = False\n",
    "        if (\"www\" in comment['body'] or \"http\" in comment['body']) and (\"pubmed\" in comment['body'] or \"ncbi\" in comment['body']):\n",
    "            counts += 1\n",
    "            flag = True\n",
    "\n",
    "        ids = find_and_normalize(comment['body'])\n",
    "\n",
    "        if len(ids) > 0:\n",
    "            flag = True\n",
    "\n",
    "            document['comments'][i]['pubmed_ids'] = ids\n",
    "            document['has_pubmed'] = True\n",
    "\n",
    "        if flag:\n",
    "            lines.append(document)"
   ]
  },
  {
   "cell_type": "code",
   "execution_count": 39,
   "id": "4bfe6608-a018-498f-908c-bad77ac6c5c9",
   "metadata": {},
   "outputs": [
    {
     "data": {
      "text/plain": [
       "3158"
      ]
     },
     "execution_count": 39,
     "metadata": {},
     "output_type": "execute_result"
    }
   ],
   "source": [
    "len(lines)"
   ]
  },
  {
   "cell_type": "code",
   "execution_count": 40,
   "id": "fefbcde4-0089-46d3-aba1-846d30bcb45e",
   "metadata": {
    "pycharm": {
     "name": "#%%\n"
    },
    "tags": []
   },
   "outputs": [],
   "source": [
    "dill.dump(lines, open(\"websites.pkl\", \"wb+\"))"
   ]
  },
  {
   "cell_type": "code",
   "execution_count": 98,
   "id": "8bd4a503",
   "metadata": {},
   "outputs": [],
   "source": [
    "import dill\n",
    "\n",
    "websites = dill.load(open(\"websites.pkl\", \"rb\"))"
   ]
  },
  {
   "cell_type": "code",
   "execution_count": 3,
   "id": "977d24ce-9d80-4a73-b58a-aa9b73c9d604",
   "metadata": {},
   "outputs": [],
   "source": []
  },
  {
   "cell_type": "code",
   "execution_count": 4,
   "id": "82820c82-de80-4fde-a67d-f029288674bd",
   "metadata": {},
   "outputs": [
    {
     "data": {
      "text/plain": [
       "[('https://www.ncbi.nlm.nih.gov/pubmed/18466657', '', '', '', ''),\n",
       " ('http://mentalhealthfood.net/the-power-of-potassium/', '', '', '', ''),\n",
       " ('https://s-media-cache-ak0.pinimg.com/originals/e8/fc/6b/e8fc6b29d6cfaba14de94c34f72c6841.jpg',\n",
       "  '',\n",
       "  '',\n",
       "  '',\n",
       "  '')]"
      ]
     },
     "execution_count": 4,
     "metadata": {},
     "output_type": "execute_result"
    }
   ],
   "source": [
    "matches"
   ]
  },
  {
   "cell_type": "code",
   "execution_count": 99,
   "id": "720ac1a0-7c8c-4f5c-8dd6-f6da17bbd984",
   "metadata": {},
   "outputs": [],
   "source": [
    "def recurse_unwrap(collection, unwound_list):\n",
    "    if isinstance(collection, (list, tuple)):\n",
    "        for element in collection:\n",
    "            unwound_list.append(recurse_unwrap(element, unwound_list))\n",
    "    else:\n",
    "        return collection"
   ]
  },
  {
   "cell_type": "code",
   "execution_count": 10,
   "id": "7b1fb0a0-460b-4741-9b6b-4b3a90655bfc",
   "metadata": {
    "tags": []
   },
   "outputs": [
    {
     "data": {
      "text/plain": [
       "['https://www.ncbi.nlm.nih.gov/pubmed/18466657']"
      ]
     },
     "execution_count": 10,
     "metadata": {},
     "output_type": "execute_result"
    }
   ],
   "source": [
    "import re \n",
    "\n",
    "pattern = re.compile(r\"\"\"(?i)\\b((?:https?:(?:/{1,3}|[a-z0-9%])|[a-z0-9.\\-]+[.](?:com|net|org|edu|gov|mil|aero|asia|biz|cat|coop|info|int|jobs|mobi|museum|name|post|pro|tel|travel|xxx|ac|ad|ae|af|ag|ai|al|am|an|ao|aq|ar|as|at|au|aw|ax|az|ba|bb|bd|be|bf|bg|bh|bi|bj|bm|bn|bo|br|bs|bt|bv|bw|by|bz|ca|cc|cd|cf|cg|ch|ci|ck|cl|cm|cn|co|cr|cs|cu|cv|cx|cy|cz|dd|de|dj|dk|dm|do|dz|ec|ee|eg|eh|er|es|et|eu|fi|fj|fk|fm|fo|fr|ga|gb|gd|ge|gf|gg|gh|gi|gl|gm|gn|gp|gq|gr|gs|gt|gu|gw|gy|hk|hm|hn|hr|ht|hu|id|ie|il|im|in|io|iq|ir|is|it|je|jm|jo|jp|ke|kg|kh|ki|km|kn|kp|kr|kw|ky|kz|la|lb|lc|li|lk|lr|ls|lt|lu|lv|ly|ma|mc|md|me|mg|mh|mk|ml|mm|mn|mo|mp|mq|mr|ms|mt|mu|mv|mw|mx|my|mz|na|nc|ne|nf|ng|ni|nl|no|np|nr|nu|nz|om|pa|pe|pf|pg|ph|pk|pl|pm|pn|pr|ps|pt|pw|py|qa|re|ro|rs|ru|rw|sa|sb|sc|sd|se|sg|sh|si|sj|Ja|sk|sl|sm|sn|so|sr|ss|st|su|sv|sx|sy|sz|tc|td|tf|tg|th|tj|tk|tl|tm|tn|to|tp|tr|tt|tv|tw|tz|ua|ug|uk|us|uy|uz|va|vc|ve|vg|vi|vn|vu|wf|ws|ye|yt|yu|za|zm|zw)/)(?:[^\\s()<>{}\\[\\]]+|\\([^\\s()]*?\\([^\\s()]+\\)[^\\s()]*?\\)|\\([^\\s]+?\\))+(?:\\([^\\s()]*?\\([^\\s()]+\\)[^\\s()]*?\\)|\\([^\\s]+?\\)|[^\\s`!()\\[\\]{};:'\".,<>?«»“”‘’])|(?:(?<!@)[a-z0-9]+(?:[.\\-][a-z0-9]+)*[.](?:com|net|org|edu|gov|mil|aero|asia|biz|cat|coop|info|int|jobs|mobi|museum|name|post|pro|tel|travel|xxx|ac|ad|ae|af|ag|ai|al|am|an|ao|aq|ar|as|at|au|aw|ax|az|ba|bb|bd|be|bf|bg|bh|bi|bj|bm|bn|bo|br|bs|bt|bv|bw|by|bz|ca|cc|cd|cf|cg|ch|ci|ck|cl|cm|cn|co|cr|cs|cu|cv|cx|cy|cz|dd|de|dj|dk|dm|do|dz|ec|ee|eg|eh|er|es|et|eu|fi|fj|fk|fm|fo|fr|ga|gb|gd|ge|gf|gg|gh|gi|gl|gm|gn|gp|gq|gr|gs|gt|gu|gw|gy|hk|hm|hn|hr|ht|hu|id|ie|il|im|in|io|iq|ir|is|it|je|jm|jo|jp|ke|kg|kh|ki|km|kn|kp|kr|kw|ky|kz|la|lb|lc|li|lk|lr|ls|lt|lu|lv|ly|ma|mc|md|me|mg|mh|mk|ml|mm|mn|mo|mp|mq|mr|ms|mt|mu|mv|mw|mx|my|mz|na|nc|ne|nf|ng|ni|nl|no|np|nr|nu|nz|om|pa|pe|pf|pg|ph|pk|pl|pm|pn|pr|ps|pt|pw|py|qa|re|ro|rs|ru|rw|sa|sb|sc|sd|se|sg|sh|si|sj|Ja|sk|sl|sm|sn|so|sr|ss|st|su|sv|sx|sy|sz|tc|td|tf|tg|th|tj|tk|tl|tm|tn|to|tp|tr|tt|tv|tw|tz|ua|ug|uk|us|uy|uz|va|vc|ve|vg|vi|vn|vu|wf|ws|ye|yt|yu|za|zm|zw)\\b/?(?!@)))\"\"\")\n",
    "\n",
    "lines = websites\n",
    "matches = pattern.findall(lines[-1]['comments'][6]['body'])\n",
    "\n",
    "test = []\n",
    "recurse_unwrap(matches, test)\n",
    "list(filter(lambda k: k and (\"pubmed\" in k or \"ncbi\" in k), test))"
   ]
  },
  {
   "cell_type": "code",
   "execution_count": 8,
   "id": "37c561a9-2edb-414b-8cb0-b864158569c7",
   "metadata": {},
   "outputs": [],
   "source": [
    "import re\n",
    "\n",
    "pattern = re.compile(r\"\"\"(?i)\\b((?:https?:(?:/{1,3}|[a-z0-9%])|[a-z0-9.\\-]+[.](?:com|net|org|edu|gov|mil|aero|asia|biz|cat|coop|info|int|jobs|mobi|museum|name|post|pro|tel|travel|xxx|ac|ad|ae|af|ag|ai|al|am|an|ao|aq|ar|as|at|au|aw|ax|az|ba|bb|bd|be|bf|bg|bh|bi|bj|bm|bn|bo|br|bs|bt|bv|bw|by|bz|ca|cc|cd|cf|cg|ch|ci|ck|cl|cm|cn|co|cr|cs|cu|cv|cx|cy|cz|dd|de|dj|dk|dm|do|dz|ec|ee|eg|eh|er|es|et|eu|fi|fj|fk|fm|fo|fr|ga|gb|gd|ge|gf|gg|gh|gi|gl|gm|gn|gp|gq|gr|gs|gt|gu|gw|gy|hk|hm|hn|hr|ht|hu|id|ie|il|im|in|io|iq|ir|is|it|je|jm|jo|jp|ke|kg|kh|ki|km|kn|kp|kr|kw|ky|kz|la|lb|lc|li|lk|lr|ls|lt|lu|lv|ly|ma|mc|md|me|mg|mh|mk|ml|mm|mn|mo|mp|mq|mr|ms|mt|mu|mv|mw|mx|my|mz|na|nc|ne|nf|ng|ni|nl|no|np|nr|nu|nz|om|pa|pe|pf|pg|ph|pk|pl|pm|pn|pr|ps|pt|pw|py|qa|re|ro|rs|ru|rw|sa|sb|sc|sd|se|sg|sh|si|sj|Ja|sk|sl|sm|sn|so|sr|ss|st|su|sv|sx|sy|sz|tc|td|tf|tg|th|tj|tk|tl|tm|tn|to|tp|tr|tt|tv|tw|tz|ua|ug|uk|us|uy|uz|va|vc|ve|vg|vi|vn|vu|wf|ws|ye|yt|yu|za|zm|zw)/)(?:[^\\s()<>{}\\[\\]]+|\\([^\\s()]*?\\([^\\s()]+\\)[^\\s()]*?\\)|\\([^\\s]+?\\))+(?:\\([^\\s()]*?\\([^\\s()]+\\)[^\\s()]*?\\)|\\([^\\s]+?\\)|[^\\s`!()\\[\\]{};:'\".,<>?«»“”‘’])|(?:(?<!@)[a-z0-9]+(?:[.\\-][a-z0-9]+)*[.](?:com|net|org|edu|gov|mil|aero|asia|biz|cat|coop|info|int|jobs|mobi|museum|name|post|pro|tel|travel|xxx|ac|ad|ae|af|ag|ai|al|am|an|ao|aq|ar|as|at|au|aw|ax|az|ba|bb|bd|be|bf|bg|bh|bi|bj|bm|bn|bo|br|bs|bt|bv|bw|by|bz|ca|cc|cd|cf|cg|ch|ci|ck|cl|cm|cn|co|cr|cs|cu|cv|cx|cy|cz|dd|de|dj|dk|dm|do|dz|ec|ee|eg|eh|er|es|et|eu|fi|fj|fk|fm|fo|fr|ga|gb|gd|ge|gf|gg|gh|gi|gl|gm|gn|gp|gq|gr|gs|gt|gu|gw|gy|hk|hm|hn|hr|ht|hu|id|ie|il|im|in|io|iq|ir|is|it|je|jm|jo|jp|ke|kg|kh|ki|km|kn|kp|kr|kw|ky|kz|la|lb|lc|li|lk|lr|ls|lt|lu|lv|ly|ma|mc|md|me|mg|mh|mk|ml|mm|mn|mo|mp|mq|mr|ms|mt|mu|mv|mw|mx|my|mz|na|nc|ne|nf|ng|ni|nl|no|np|nr|nu|nz|om|pa|pe|pf|pg|ph|pk|pl|pm|pn|pr|ps|pt|pw|py|qa|re|ro|rs|ru|rw|sa|sb|sc|sd|se|sg|sh|si|sj|Ja|sk|sl|sm|sn|so|sr|ss|st|su|sv|sx|sy|sz|tc|td|tf|tg|th|tj|tk|tl|tm|tn|to|tp|tr|tt|tv|tw|tz|ua|ug|uk|us|uy|uz|va|vc|ve|vg|vi|vn|vu|wf|ws|ye|yt|yu|za|zm|zw)\\b/?(?!@)))\"\"\")"
   ]
  },
  {
   "cell_type": "code",
   "execution_count": 100,
   "id": "a87718d8-38c8-4424-bf99-7200b6a50cd2",
   "metadata": {},
   "outputs": [
    {
     "data": {
      "application/vnd.jupyter.widget-view+json": {
       "model_id": "8911c77377ec4191bd48f782321cecf5",
       "version_major": 2,
       "version_minor": 0
      },
      "text/plain": [
       "  0%|          | 0/2560 [00:00<?, ?it/s]"
      ]
     },
     "metadata": {},
     "output_type": "display_data"
    },
    {
     "ename": "AttributeError",
     "evalue": "'set' object has no attribute 'extend'",
     "output_type": "error",
     "traceback": [
      "\u001b[0;31m---------------------------------------------------------------------------\u001b[0m",
      "\u001b[0;31mAttributeError\u001b[0m                            Traceback (most recent call last)",
      "Cell \u001b[0;32mIn [100], line 19\u001b[0m\n\u001b[1;32m     16\u001b[0m     counts \u001b[38;5;241m=\u001b[39m counts \u001b[38;5;241m+\u001b[39m \u001b[38;5;241m1\u001b[39m\n\u001b[1;32m     18\u001b[0m \u001b[38;5;28;01mif\u001b[39;00m \u001b[38;5;124m'\u001b[39m\u001b[38;5;124murls\u001b[39m\u001b[38;5;124m'\u001b[39m \u001b[38;5;129;01min\u001b[39;00m document:\n\u001b[0;32m---> 19\u001b[0m     \u001b[43mdocument\u001b[49m\u001b[43m[\u001b[49m\u001b[38;5;124;43m'\u001b[39;49m\u001b[38;5;124;43murls\u001b[39;49m\u001b[38;5;124;43m'\u001b[39;49m\u001b[43m]\u001b[49m\u001b[38;5;241;43m.\u001b[39;49m\u001b[43mextend\u001b[49m(urls)\n\u001b[1;32m     20\u001b[0m \u001b[38;5;28;01melse\u001b[39;00m:\n\u001b[1;32m     21\u001b[0m     document[\u001b[38;5;124m'\u001b[39m\u001b[38;5;124murls\u001b[39m\u001b[38;5;124m'\u001b[39m] \u001b[38;5;241m=\u001b[39m urls\n",
      "\u001b[0;31mAttributeError\u001b[0m: 'set' object has no attribute 'extend'"
     ]
    }
   ],
   "source": [
    "import tqdm.notebook\n",
    "\n",
    "counts = 0\n",
    "lines = []\n",
    "found = []\n",
    "\n",
    "for document in tqdm.notebook.tqdm(websites):\n",
    "    for i, comment in enumerate(document['comments']):\n",
    "        matches = pattern.findall(comment['body'])\n",
    "        urls = []\n",
    "\n",
    "        recurse_unwrap(matches, urls)\n",
    "        urls = list(filter(lambda k: k and (\"pubmed\" in k or \"ncbi\" in k), urls))\n",
    "        found.append(urls)\n",
    "\n",
    "        if len(urls) > 0:\n",
    "            counts = counts + 1\n",
    "\n",
    "        if 'urls' in document:\n",
    "            document['urls'].extend(urls)\n",
    "        else:\n",
    "            document['urls'] = urls"
   ]
  },
  {
   "cell_type": "code",
   "execution_count": 36,
   "id": "7fc04bf7-7194-4846-bcca-1d55f86c0cc6",
   "metadata": {},
   "outputs": [],
   "source": [
    "unique = {}\n",
    "\n",
    "for document in websites:\n",
    "    if document['id'] in unique:\n",
    "        continue\n",
    "    else:\n",
    "        unique[document['id']] = document"
   ]
  },
  {
   "cell_type": "code",
   "execution_count": 96,
   "id": "4053eead-02ab-460d-b6e3-09e9753d62ad",
   "metadata": {},
   "outputs": [],
   "source": [
    "websites = list(unique.values())\n",
    "#dill.dump(websites, open(\"websites_filtered.pkl\", \"wb+\"))"
   ]
  },
  {
   "cell_type": "code",
   "execution_count": 121,
   "id": "22e9fd44-190e-44ce-a3a9-d1a1641aed1a",
   "metadata": {},
   "outputs": [],
   "source": [
    "def has_numbers(inputString):\n",
    "    return any(char.isdigit() for char in inputString)\n",
    "\n",
    "hits = []\n",
    "misses = []\n",
    "\n",
    "for document in websites:\n",
    "    for comment in document['comments']:\n",
    "        if 'pmc_ids' not in document:\n",
    "            document['pmc_ids'] = []\n",
    "        if 'pmid' not in document:\n",
    "            document['pmid'] = []\n",
    "        if 'pubmed_ids' in comment:\n",
    "            document['pmc_ids'].extend(comment['pubmed_ids'])\n",
    "\n",
    "    for url in document['urls']:\n",
    "        ids = []\n",
    "        pmids = []\n",
    "        for token in url.split('/'):\n",
    "            if has_numbers(token):\n",
    "                token = str(token).strip()\n",
    "                if token in id_normalize:\n",
    "                    pmcid = str(id_normalize[token]).strip()\n",
    "\n",
    "                    if pmcid:\n",
    "                        ids.append(pmcid)\n",
    "\n",
    "                    hits.append(url)\n",
    "                    break\n",
    "                else:\n",
    "                    pmid = str(token)\n",
    "                    document['pmid'].append(pmid)\n",
    "                    break\n",
    "\n",
    "        if not ids:\n",
    "            misses.append(url)\n",
    "\n",
    "        document['pmc_ids'].extend(ids)\n",
    "\n",
    "    document['pmc_ids'] = list(set(document['pmc_ids']))\n",
    "    document['pmid'] = list(set(document['pmid']))"
   ]
  },
  {
   "cell_type": "code",
   "execution_count": 122,
   "id": "3b4a8db4-37af-416f-9b08-13708b4de404",
   "metadata": {},
   "outputs": [
    {
     "data": {
      "text/plain": [
       "['PMC3889339', '24427724']"
      ]
     },
     "execution_count": 122,
     "metadata": {},
     "output_type": "execute_result"
    }
   ],
   "source": [
    "list(websites)[-3]['pmc_ids']"
   ]
  },
  {
   "cell_type": "code",
   "execution_count": 123,
   "id": "e4d6e23b-ca75-4269-b25a-c6b0e9a14845",
   "metadata": {},
   "outputs": [],
   "source": [
    "dill.dump(list(websites), open(\"websites_filtered2.pkl\", \"wb+\"))"
   ]
  },
  {
   "cell_type": "code",
   "execution_count": 124,
   "id": "d399ad20-4658-4f2b-877f-39fe1c845279",
   "metadata": {
    "tags": []
   },
   "outputs": [
    {
     "data": {
      "text/plain": [
       "1644"
      ]
     },
     "execution_count": 124,
     "metadata": {},
     "output_type": "execute_result"
    }
   ],
   "source": [
    "len(misses)"
   ]
  },
  {
   "cell_type": "code",
   "execution_count": 125,
   "id": "43dedccb-8bcf-4ed1-ad93-967134e4baf7",
   "metadata": {},
   "outputs": [
    {
     "data": {
      "text/plain": [
       "1785"
      ]
     },
     "execution_count": 125,
     "metadata": {},
     "output_type": "execute_result"
    }
   ],
   "source": [
    "len(hits)"
   ]
  },
  {
   "cell_type": "code",
   "execution_count": null,
   "id": "b6b237b3",
   "metadata": {},
   "outputs": [],
   "source": [
    "from pymetamap import MetaMap\n",
    "\n",
    "METAMAP_PATH = \"/home/vin/Downloads/metamap/public_mm/bin/metamap20\"\n",
    "\n",
    "mm = MetaMap.get_instance(METAMAP_PATH)"
   ]
  },
  {
   "cell_type": "code",
   "execution_count": null,
   "id": "e2643874",
   "metadata": {},
   "outputs": [],
   "source": [
    "import tqdm\n",
    "\n",
    "for document in tqdm.tqdm_notebook(websites):\n",
    "    selftext_mmc = mm.extract_concepts(document['selftext'])\n",
    "    document['selftext_mmc'] = selftext_mmc\n",
    "\n",
    "    for i, comment in enumerate(document['comments']):\n",
    "        comment_body_mmc = mm.extract_concepts([comment['body']])\n",
    "        comment['body_mmc'] = comment_body_mmc"
   ]
  }
 ],
 "metadata": {
  "kernelspec": {
   "display_name": "Python 3 (ipykernel)",
   "language": "python",
   "name": "python3"
  },
  "language_info": {
   "codemirror_mode": {
    "name": "ipython",
    "version": 3
   },
   "file_extension": ".py",
   "mimetype": "text/x-python",
   "name": "python",
   "nbconvert_exporter": "python",
   "pygments_lexer": "ipython3",
   "version": "3.10.8"
  },
  "vscode": {
   "interpreter": {
    "hash": "e28f172f839fa62708ee1608c612608b55d0c8d3fb3031005f5fd9bb14e248ef"
   }
  }
 },
 "nbformat": 4,
 "nbformat_minor": 5
}
