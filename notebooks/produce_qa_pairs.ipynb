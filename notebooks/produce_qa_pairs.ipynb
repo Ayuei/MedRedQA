{
 "cells": [
  {
   "cell_type": "code",
   "execution_count": 1,
   "id": "fb610198-cb40-41f6-af0e-fd7ca18fa121",
   "metadata": {},
   "outputs": [],
   "source": [
    "import dill\n",
    "\n",
    "data = dill.load(open(\"data.pkl\", \"rb\"))"
   ]
  },
  {
   "cell_type": "code",
   "execution_count": 2,
   "id": "a8968aae-941f-483d-bb6c-cca09f2bee78",
   "metadata": {
    "tags": []
   },
   "outputs": [
    {
     "data": {
      "text/plain": [
       "'ohbdgv'"
      ]
     },
     "execution_count": 2,
     "metadata": {},
     "output_type": "execute_result"
    }
   ],
   "source": [
    "list(data.keys())[0]"
   ]
  },
  {
   "cell_type": "code",
   "execution_count": 3,
   "id": "866dcf7f-dd81-463c-8051-4a9eefb682f3",
   "metadata": {},
   "outputs": [
    {
     "data": {
      "text/plain": [
       "597504"
      ]
     },
     "execution_count": 3,
     "metadata": {},
     "output_type": "execute_result"
    }
   ],
   "source": [
    "len(data)"
   ]
  },
  {
   "cell_type": "code",
   "execution_count": 4,
   "id": "f936bf3f-8627-4806-9fcd-43868cb2d048",
   "metadata": {},
   "outputs": [
    {
     "data": {
      "text/plain": [
       "3.0275723417477507"
      ]
     },
     "execution_count": 4,
     "metadata": {},
     "output_type": "execute_result"
    }
   ],
   "source": [
    "# How many comments per post\n",
    "\n",
    "total_comments = [datum['num_comments'] for datum in data.values() if isinstance(datum['num_comments'], int)]\n",
    "total_posts = len(total_comments)\n",
    "\n",
    "sum(total_comments)/total_posts"
   ]
  },
  {
   "cell_type": "code",
   "execution_count": 7,
   "id": "63f96a4d-417a-4cf9-9f9c-3028da614955",
   "metadata": {},
   "outputs": [
    {
     "data": {
      "text/plain": [
       "1719761"
      ]
     },
     "execution_count": 7,
     "metadata": {},
     "output_type": "execute_result"
    }
   ],
   "source": [
    "sum(total_comments)"
   ]
  },
  {
   "cell_type": "code",
   "execution_count": 8,
   "id": "9225f657-efc7-44ac-b3af-0d2022be1e35",
   "metadata": {},
   "outputs": [
    {
     "data": {
      "text/plain": [
       "3.0632815346995685"
      ]
     },
     "execution_count": 8,
     "metadata": {},
     "output_type": "execute_result"
    }
   ],
   "source": [
    "total_score = [datum['score'] for datum in data.values() if isinstance(datum['score'], int)]\n",
    "total_posts = len(total_score)\n",
    "\n",
    "sum(total_score)/total_posts"
   ]
  },
  {
   "cell_type": "code",
   "execution_count": 9,
   "id": "004bb86c-83f5-4d6b-b661-7f41737a1064",
   "metadata": {},
   "outputs": [
    {
     "data": {
      "text/plain": [
       "90.77553965812126"
      ]
     },
     "execution_count": 9,
     "metadata": {},
     "output_type": "execute_result"
    }
   ],
   "source": [
    "import statistics\n",
    "\n",
    "statistics.stdev(sorted(total_score))"
   ]
  },
  {
   "cell_type": "code",
   "execution_count": 10,
   "id": "8212fe19-30a2-4fde-8765-2c6f1a029df5",
   "metadata": {},
   "outputs": [],
   "source": [
    "total_score = []\n",
    "\n",
    "for datum in data.values():\n",
    "    for comment in datum['comments']:\n",
    "        total_score.append(comment['score'])\n",
    "\n",
    "total_posts = len(total_score)"
   ]
  },
  {
   "cell_type": "code",
   "execution_count": 11,
   "id": "953ae1a4-6550-4a3a-94ff-e1a436335608",
   "metadata": {},
   "outputs": [
    {
     "data": {
      "text/plain": [
       "3.5826561662681486"
      ]
     },
     "execution_count": 11,
     "metadata": {},
     "output_type": "execute_result"
    }
   ],
   "source": [
    "sum(total_score)/total_posts"
   ]
  },
  {
   "cell_type": "code",
   "execution_count": 12,
   "id": "4918553b-2ed9-44d5-ae0b-389029500095",
   "metadata": {},
   "outputs": [
    {
     "data": {
      "text/plain": [
       "20.562435108811155"
      ]
     },
     "execution_count": 12,
     "metadata": {},
     "output_type": "execute_result"
    }
   ],
   "source": [
    "statistics.stdev(sorted(total_score))"
   ]
  },
  {
   "cell_type": "code",
   "execution_count": 13,
   "id": "3b7f2ca0-d047-4fc6-89f4-e3572ed56b30",
   "metadata": {},
   "outputs": [],
   "source": [
    "maxi = None\n",
    "lots = []\n",
    "average = []\n",
    "none = []\n",
    "\n",
    "for datum in data.values():\n",
    "    try:\n",
    "        if datum['num_comments'] > 500:\n",
    "            lots.append(datum)\n",
    "        if datum['num_comments'] == 3:\n",
    "            average.append(datum)\n",
    "        if datum['num_comments'] == 0:\n",
    "            none.append(datum)\n",
    "    except:\n",
    "        continue"
   ]
  },
  {
   "cell_type": "code",
   "execution_count": 14,
   "id": "b786ed37-dcd8-47a0-96f9-b82e175be0b8",
   "metadata": {},
   "outputs": [
    {
     "data": {
      "text/plain": [
       "\"The only time you would have needed a blood transfusion was if you lost a significant amount of blood. That very well could have happened with a ruptured appendix. That just means they had to give you some blood at some point. \\nThe factor II mutation that you have is genetic and isn't related to the transfusion. Have you ever seen a hematologist?\""
      ]
     },
     "execution_count": 14,
     "metadata": {},
     "output_type": "execute_result"
    }
   ],
   "source": [
    "average[800]['comments'][0]['body']"
   ]
  },
  {
   "cell_type": "code",
   "execution_count": 15,
   "id": "36ba21e5-3c4b-41fd-bc04-a1a3245b4447",
   "metadata": {},
   "outputs": [
    {
     "data": {
      "text/plain": [
       "10.753094218368535"
      ]
     },
     "execution_count": 15,
     "metadata": {},
     "output_type": "execute_result"
    }
   ],
   "source": [
    "import statistics\n",
    "\n",
    "statistics.stdev(sorted(total_comments))"
   ]
  },
  {
   "cell_type": "markdown",
   "id": "8b7ea6a9-819d-4300-abfa-24ee476c5f84",
   "metadata": {
    "tags": []
   },
   "source": [
    "## Get QA Pairs"
   ]
  },
  {
   "cell_type": "code",
   "execution_count": 16,
   "id": "76bc6f87-c9f3-4247-a52d-e1baf8bfa320",
   "metadata": {
    "tags": []
   },
   "outputs": [
    {
     "data": {
      "text/plain": [
       "272529"
      ]
     },
     "execution_count": 16,
     "metadata": {},
     "output_type": "execute_result"
    }
   ],
   "source": [
    "posts_with_comments = list(filter(lambda k: len(k['comments']) > 0, data.values()))\n",
    "len(posts_with_comments)"
   ]
  },
  {
   "cell_type": "code",
   "execution_count": 17,
   "id": "123ed0e6-67fb-48b9-b428-42c1fc5c7e31",
   "metadata": {},
   "outputs": [],
   "source": [
    "import re\n",
    "\n",
    "pattern = re.compile(r\"\"\"(?i)\\b((?:https?:(?:/{1,3}|[a-z0-9%])|[a-z0-9.\\-]+[.](?:com|net|org|edu|gov|mil|aero|asia|biz|cat|coop|info|int|jobs|mobi|museum|name|post|pro|tel|travel|xxx|ac|ad|ae|af|ag|ai|al|am|an|ao|aq|ar|as|at|au|aw|ax|az|ba|bb|bd|be|bf|bg|bh|bi|bj|bm|bn|bo|br|bs|bt|bv|bw|by|bz|ca|cc|cd|cf|cg|ch|ci|ck|cl|cm|cn|co|cr|cs|cu|cv|cx|cy|cz|dd|de|dj|dk|dm|do|dz|ec|ee|eg|eh|er|es|et|eu|fi|fj|fk|fm|fo|fr|ga|gb|gd|ge|gf|gg|gh|gi|gl|gm|gn|gp|gq|gr|gs|gt|gu|gw|gy|hk|hm|hn|hr|ht|hu|id|ie|il|im|in|io|iq|ir|is|it|je|jm|jo|jp|ke|kg|kh|ki|km|kn|kp|kr|kw|ky|kz|la|lb|lc|li|lk|lr|ls|lt|lu|lv|ly|ma|mc|md|me|mg|mh|mk|ml|mm|mn|mo|mp|mq|mr|ms|mt|mu|mv|mw|mx|my|mz|na|nc|ne|nf|ng|ni|nl|no|np|nr|nu|nz|om|pa|pe|pf|pg|ph|pk|pl|pm|pn|pr|ps|pt|pw|py|qa|re|ro|rs|ru|rw|sa|sb|sc|sd|se|sg|sh|si|sj|Ja|sk|sl|sm|sn|so|sr|ss|st|su|sv|sx|sy|sz|tc|td|tf|tg|th|tj|tk|tl|tm|tn|to|tp|tr|tt|tv|tw|tz|ua|ug|uk|us|uy|uz|va|vc|ve|vg|vi|vn|vu|wf|ws|ye|yt|yu|za|zm|zw)/)(?:[^\\s()<>{}\\[\\]]+|\\([^\\s()]*?\\([^\\s()]+\\)[^\\s()]*?\\)|\\([^\\s]+?\\))+(?:\\([^\\s()]*?\\([^\\s()]+\\)[^\\s()]*?\\)|\\([^\\s]+?\\)|[^\\s`!()\\[\\]{};:'\".,<>?«»“”‘’])|(?:(?<!@)[a-z0-9]+(?:[.\\-][a-z0-9]+)*[.](?:com|net|org|edu|gov|mil|aero|asia|biz|cat|coop|info|int|jobs|mobi|museum|name|post|pro|tel|travel|xxx|ac|ad|ae|af|ag|ai|al|am|an|ao|aq|ar|as|at|au|aw|ax|az|ba|bb|bd|be|bf|bg|bh|bi|bj|bm|bn|bo|br|bs|bt|bv|bw|by|bz|ca|cc|cd|cf|cg|ch|ci|ck|cl|cm|cn|co|cr|cs|cu|cv|cx|cy|cz|dd|de|dj|dk|dm|do|dz|ec|ee|eg|eh|er|es|et|eu|fi|fj|fk|fm|fo|fr|ga|gb|gd|ge|gf|gg|gh|gi|gl|gm|gn|gp|gq|gr|gs|gt|gu|gw|gy|hk|hm|hn|hr|ht|hu|id|ie|il|im|in|io|iq|ir|is|it|je|jm|jo|jp|ke|kg|kh|ki|km|kn|kp|kr|kw|ky|kz|la|lb|lc|li|lk|lr|ls|lt|lu|lv|ly|ma|mc|md|me|mg|mh|mk|ml|mm|mn|mo|mp|mq|mr|ms|mt|mu|mv|mw|mx|my|mz|na|nc|ne|nf|ng|ni|nl|no|np|nr|nu|nz|om|pa|pe|pf|pg|ph|pk|pl|pm|pn|pr|ps|pt|pw|py|qa|re|ro|rs|ru|rw|sa|sb|sc|sd|se|sg|sh|si|sj|Ja|sk|sl|sm|sn|so|sr|ss|st|su|sv|sx|sy|sz|tc|td|tf|tg|th|tj|tk|tl|tm|tn|to|tp|tr|tt|tv|tw|tz|ua|ug|uk|us|uy|uz|va|vc|ve|vg|vi|vn|vu|wf|ws|ye|yt|yu|za|zm|zw)\\b/?(?!@)))\"\"\")"
   ]
  },
  {
   "cell_type": "code",
   "execution_count": 23,
   "id": "4e3728a3-1449-4b33-896a-4757842d5338",
   "metadata": {},
   "outputs": [
    {
     "data": {
      "application/vnd.jupyter.widget-view+json": {
       "model_id": "58e7659857114ab78ed3cec5ce550c36",
       "version_major": 2,
       "version_minor": 0
      },
      "text/plain": [
       "  0%|          | 0/272529 [00:00<?, ?it/s]"
      ]
     },
     "metadata": {},
     "output_type": "display_data"
    },
    {
     "data": {
      "application/vnd.jupyter.widget-view+json": {
       "model_id": "ce6eaee9829f460095ddcac6ab09ec08",
       "version_major": 2,
       "version_minor": 0
      },
      "text/plain": [
       "  0%|          | 0/147047 [00:00<?, ?it/s]"
      ]
     },
     "metadata": {},
     "output_type": "display_data"
    }
   ],
   "source": [
    "# Further remove deleted posts\n",
    "import tqdm.notebook\n",
    "import nltk\n",
    "\n",
    "remove_count = 0\n",
    "removed = []\n",
    "\n",
    "filtered_posts = []\n",
    "\n",
    "for post in tqdm.notebook.tqdm(posts_with_comments):\n",
    "    text = post['selftext']\n",
    "    \n",
    "    if text == \"[deleted]\":\n",
    "        remove_count += 1\n",
    "        continue\n",
    "    \n",
    "    if text.lower().startswith(\"delet\"):\n",
    "        remove_count += 1\n",
    "        continue\n",
    "        \n",
    "    if text.lower().startswith(\"remove\"):\n",
    "        remove_count += 1\n",
    "        continue\n",
    "    \n",
    "    post['selftext'] = re.sub(r\"http\\S+\", \"\", post['selftext'])\n",
    "    post['selftext'] = re.sub(r\"www\\S+\", \"\", post['selftext'])\n",
    "    \n",
    "    if len(post['selftext']) < 1:\n",
    "        removed.append(post)\n",
    "        continue\n",
    "        \n",
    "    filtered_posts.append(post)\n",
    "\n",
    "remove_comments = 0\n",
    "removed_comments = []\n",
    "\n",
    "secondary_filter = []\n",
    "\n",
    "for post in tqdm.notebook.tqdm(filtered_posts):\n",
    "    for comment in post['comments']:\n",
    "        text = comment['body']\n",
    "\n",
    "        if text == \"[deleted]\":\n",
    "            remove_comments += 1\n",
    "            continue\n",
    "\n",
    "        if text.lower().startswith(\"delet\"):\n",
    "            remove_comments += 1\n",
    "            continue\n",
    "\n",
    "        if text.lower().startswith(\"remove\"):\n",
    "            remove_comments += 1\n",
    "            continue\n",
    "\n",
    "        comment['body'] = re.sub(r\"http\\S+\", \"\", comment['body'])\n",
    "        comment['body'] = re.sub(r\"www\\S+\", \"\", comment['body'])\n",
    "\n",
    "        if len(comment['body']) < 1:\n",
    "            removed_comments.append(comment)\n",
    "            continue\n",
    "\n",
    "        secondary_filter.append(post)"
   ]
  },
  {
   "cell_type": "code",
   "execution_count": 24,
   "id": "225f5d45-b202-4d8d-85dd-ba8358aeff2d",
   "metadata": {},
   "outputs": [
    {
     "name": "stdout",
     "output_type": "stream",
     "text": [
      "95\n"
     ]
    },
    {
     "data": {
      "text/plain": [
       "1044"
      ]
     },
     "execution_count": 24,
     "metadata": {},
     "output_type": "execute_result"
    }
   ],
   "source": [
    "print(len(removed))\n",
    "len(removed_comments)"
   ]
  },
  {
   "cell_type": "code",
   "execution_count": 25,
   "id": "f07902b7-84c8-4c8e-bb3e-a778f82d3f9a",
   "metadata": {},
   "outputs": [
    {
     "data": {
      "text/plain": [
       "147047"
      ]
     },
     "execution_count": 25,
     "metadata": {},
     "output_type": "execute_result"
    }
   ],
   "source": [
    "len(filtered_posts)"
   ]
  },
  {
   "cell_type": "code",
   "execution_count": 26,
   "id": "e0198597-33c1-40e2-80c1-7f1c3f0d97b2",
   "metadata": {},
   "outputs": [
    {
     "name": "stdout",
     "output_type": "stream",
     "text": [
      "125387\n"
     ]
    },
    {
     "data": {
      "text/plain": [
       "42366"
      ]
     },
     "execution_count": 26,
     "metadata": {},
     "output_type": "execute_result"
    }
   ],
   "source": [
    "print(remove_count)\n",
    "remove_comments"
   ]
  },
  {
   "cell_type": "markdown",
   "id": "ece4a7b4-b4aa-436c-b356-295d061a9156",
   "metadata": {},
   "source": [
    "About half (45.6%) of the posts have comments\n",
    "\n",
    "This however includes\n",
    "   - Posts that have been removed will not have comments attaced\n",
    "   - Posts that are too short\n",
    "   - Posts from banned users"
   ]
  },
  {
   "cell_type": "code",
   "execution_count": 27,
   "id": "32960242-224d-4528-8c31-d9704e85b043",
   "metadata": {},
   "outputs": [
    {
     "name": "stdout",
     "output_type": "stream",
     "text": [
      "2.0\n"
     ]
    },
    {
     "data": {
      "text/plain": [
       "\"info rules thing:\\n\\n5'11 14 male\\n\\n\\nHello!!! I'm writing here due to a concern about my wrist, I have recently picked up overwatch again due to crossplay and I've recently noticed about a week ago that my right wrist is in immense pain almost every day. Whenever I move my right wrist, it feels like I'm getting stabbed in my entire wrist. I did have a wrist injury 2 years ago due to basketball and I am just worried that I might be getting hurt again, I play controller overwatch so no keyboard and mouse, I don't know what's wrong with my wrist and I've googled and I can't find an answer\\n\\nif you need any more info please tell me and I will try to get back to you asap!!!\""
      ]
     },
     "execution_count": 27,
     "metadata": {},
     "output_type": "execute_result"
    }
   ],
   "source": [
    "# Random Sample\n",
    "print(filtered_posts[10]['comments'][0]['score'])\n",
    "filtered_posts[1]['selftext']"
   ]
  },
  {
   "cell_type": "markdown",
   "id": "348b73f4-1f35-4634-8bfa-b804892af58b",
   "metadata": {},
   "source": [
    "1 to 1 mapping for question-answer pairs\n",
    "\n",
    "**Critiera**\n",
    "   1. Must not be a layperson\n",
    "   2. Score must be higher than 1\n",
    "   3. Iterate from the highest scoring comment\n",
    "\n",
    "**Assumptions**\n",
    "   1. All comments in the posts are potentially the answer. This is regardless of whether it's a comment to a comment or to the root submission."
   ]
  },
  {
   "cell_type": "code",
   "execution_count": 2,
   "id": "9451fca4-8041-45da-823a-49fe8c811b6f",
   "metadata": {},
   "outputs": [
    {
     "ename": "NameError",
     "evalue": "name 'tqdm' is not defined",
     "output_type": "error",
     "traceback": [
      "\u001b[0;31m---------------------------------------------------------------------------\u001b[0m",
      "\u001b[0;31mNameError\u001b[0m                                 Traceback (most recent call last)",
      "Cell \u001b[0;32mIn[2], line 6\u001b[0m\n\u001b[1;32m      3\u001b[0m hits \u001b[38;5;241m=\u001b[39m []\n\u001b[1;32m      4\u001b[0m miss \u001b[38;5;241m=\u001b[39m []\n\u001b[0;32m----> 6\u001b[0m \u001b[38;5;28;01mfor\u001b[39;00m post \u001b[38;5;129;01min\u001b[39;00m \u001b[43mtqdm\u001b[49m\u001b[38;5;241m.\u001b[39mnotebook\u001b[38;5;241m.\u001b[39mtqdm(filtered_posts):\n\u001b[1;32m      7\u001b[0m     post[\u001b[38;5;124m'\u001b[39m\u001b[38;5;124mtop_comment\u001b[39m\u001b[38;5;124m'\u001b[39m] \u001b[38;5;241m=\u001b[39m \u001b[38;5;28;01mNone\u001b[39;00m\n\u001b[1;32m      8\u001b[0m     \u001b[38;5;28;01mfor\u001b[39;00m comment \u001b[38;5;129;01min\u001b[39;00m \u001b[38;5;28msorted\u001b[39m(post[\u001b[38;5;124m'\u001b[39m\u001b[38;5;124mcomments\u001b[39m\u001b[38;5;124m'\u001b[39m], key\u001b[38;5;241m=\u001b[39m\u001b[38;5;28;01mlambda\u001b[39;00m k: \u001b[38;5;28mint\u001b[39m(k[\u001b[38;5;124m'\u001b[39m\u001b[38;5;124mscore\u001b[39m\u001b[38;5;124m'\u001b[39m]), reverse\u001b[38;5;241m=\u001b[39m\u001b[38;5;28;01mTrue\u001b[39;00m):\n",
      "\u001b[0;31mNameError\u001b[0m: name 'tqdm' is not defined"
     ]
    }
   ],
   "source": [
    "import numpy as np\n",
    "\n",
    "hits = []\n",
    "miss = []\n",
    "\n",
    "for post in tqdm.notebook.tqdm(filtered_posts):\n",
    "    post['top_comment'] = None\n",
    "    for comment in sorted(post['comments'], key=lambda k: int(k['score']), reverse=True):\n",
    "        if 'not verified' in str(comment['author_flair_text']).lower():\n",
    "            continue\n",
    "\n",
    "        if np.isnan(comment['author_flair_text']):\n",
    "            continue\n",
    "\n",
    "        if 'layperson' not in str(comment['author_flair_text']).lower() and int(comment['score']) > 1:\n",
    "            if text == \"[deleted]\":\n",
    "                remove_count += 1\n",
    "                continue\n",
    "\n",
    "            if text.lower().startswith(\"delet\"):\n",
    "                remove_count += 1\n",
    "                continue\n",
    "\n",
    "            if text.lower().startswith(\"remove\"):\n",
    "                remove_count += 1\n",
    "                continue\n",
    "\n",
    "            post['top_comment'] = comment\n",
    "            hits.append(post)\n",
    "            break\n",
    "    if post['top_comment'] is None:\n",
    "        miss.append(comment)"
   ]
  },
  {
   "cell_type": "code",
   "execution_count": 29,
   "id": "7ed6bf98-0410-4c8e-bbb5-c1837fdc9261",
   "metadata": {},
   "outputs": [
    {
     "data": {
      "text/plain": [
       "'Hi Burproprion is commonly used as antidepresant or for smoking cessation. \\n\\nYes, you can definitely drink 2 of 150 mg to reach the 300 mg needed. Do follow the prescription/instruction from your attending physician.'"
      ]
     },
     "execution_count": 29,
     "metadata": {},
     "output_type": "execute_result"
    }
   ],
   "source": [
    "# Sanity Check\n",
    "\n",
    "posts_with_comments[2]['top_comment']['body']"
   ]
  },
  {
   "cell_type": "code",
   "execution_count": 30,
   "id": "2bb7589b-ea6d-4b1e-a23c-07ba3bb5a643",
   "metadata": {
    "tags": []
   },
   "outputs": [
    {
     "data": {
      "text/plain": [
       "1"
      ]
     },
     "execution_count": 30,
     "metadata": {},
     "output_type": "execute_result"
    }
   ],
   "source": [
    "# Sanity Check\n",
    "\n",
    "hits[0]['score']"
   ]
  },
  {
   "cell_type": "code",
   "execution_count": 31,
   "id": "c4d8272d-ca94-4ce0-9bc7-7e3859a01db3",
   "metadata": {},
   "outputs": [
    {
     "data": {
      "text/plain": [
       "76535"
      ]
     },
     "execution_count": 31,
     "metadata": {},
     "output_type": "execute_result"
    }
   ],
   "source": [
    "len(hits)"
   ]
  },
  {
   "cell_type": "code",
   "execution_count": 32,
   "id": "a0226930-45a6-4555-b9c6-217f5ec9e4a4",
   "metadata": {},
   "outputs": [
    {
     "data": {
      "text/plain": [
       "70512"
      ]
     },
     "execution_count": 32,
     "metadata": {},
     "output_type": "execute_result"
    }
   ],
   "source": [
    "len(miss)"
   ]
  },
  {
   "cell_type": "code",
   "execution_count": 33,
   "id": "13102cdf-46de-4180-96da-6b6ff491f080",
   "metadata": {},
   "outputs": [],
   "source": [
    "dill.dump(hits, open('hits.pkl', 'wb+'))"
   ]
  },
  {
   "cell_type": "markdown",
   "id": "a2cda7d1-453e-4bec-9da8-e7769e871229",
   "metadata": {},
   "source": [
    "Roughly 50% dropped out again, but still 76k Q-A pairs"
   ]
  },
  {
   "cell_type": "code",
   "execution_count": 34,
   "id": "50823c6a-d7b0-492a-b08d-ee38d31acc53",
   "metadata": {},
   "outputs": [
    {
     "data": {
      "text/plain": [
       "'Hi there! \\n\\nWhile it’s true that blowing your nose really hard might irritate the nostril after cauterization, runny nose itself doesn’t really effect the cauterization. It’s very likely that you had a runny nose because your nostril is recuperating (inflammation process) after the cauterization procedures. If no significant bleeding occurred, you don’t really need to worry.'"
      ]
     },
     "execution_count": 34,
     "metadata": {},
     "output_type": "execute_result"
    }
   ],
   "source": [
    "# Random Sample\n",
    "\n",
    "filtered_posts[7]['top_comment']['body']"
   ]
  },
  {
   "cell_type": "code",
   "execution_count": 35,
   "id": "4fe46897-e6b0-4c7d-ba37-6fbae5992ba7",
   "metadata": {},
   "outputs": [
    {
     "data": {
      "text/plain": [
       "\"I had a really runny nose for the past couple days and although I gently blew it out before the cauterization, I'm worried that the mucus will stop it from stopping. \\nI haven't been blowing my nose and just been doing my best not to irritate that nostril for a few days.\""
      ]
     },
     "execution_count": 35,
     "metadata": {},
     "output_type": "execute_result"
    }
   ],
   "source": [
    "filtered_posts[7]['selftext']"
   ]
  },
  {
   "cell_type": "code",
   "execution_count": 36,
   "id": "bcd7ab4e-c884-4426-a824-2bd3a8ebc8bc",
   "metadata": {},
   "outputs": [
    {
     "data": {
      "text/plain": [
       "1.0"
      ]
     },
     "execution_count": 36,
     "metadata": {},
     "output_type": "execute_result"
    }
   ],
   "source": [
    "miss[60]['score']"
   ]
  },
  {
   "cell_type": "code",
   "execution_count": 49,
   "id": "2c311ac5-14a7-4cd9-9970-cc1e1e786ff3",
   "metadata": {},
   "outputs": [
    {
     "data": {
      "application/vnd.jupyter.widget-view+json": {
       "model_id": "b67a913ea79a465db2c35d703bb02fdf",
       "version_major": 2,
       "version_minor": 0
      },
      "text/plain": [
       "  0%|          | 0/147047 [00:00<?, ?it/s]"
      ]
     },
     "metadata": {},
     "output_type": "display_data"
    }
   ],
   "source": [
    "import tqdm.notebook\n",
    "import nltk\n",
    "from nltk.tokenize import WordPunctTokenizer\n",
    "from nltk.stem.porter import PorterStemmer\n",
    "from collections import defaultdict\n",
    "\n",
    "tokens_titles = []\n",
    "tokens_posts = []\n",
    "tokens_comments = defaultdict(lambda: [])\n",
    "\n",
    "wt = WordPunctTokenizer()\n",
    "stemmer = PorterStemmer()\n",
    "\n",
    "for post in tqdm.notebook.tqdm(filtered_posts, total=len(filtered_posts)):\n",
    "    try:\n",
    "        text = post['selftext']\n",
    "        tokens = wt.tokenize(text)\n",
    "        tokens_posts.append(tokens)\n",
    "\n",
    "        title = post['title']\n",
    "        tokens = wt.tokenize(title)\n",
    "        tokens_titles.append(tokens)\n",
    "\n",
    "        for comment in post['comments']:\n",
    "            tokens = list(filter(lambda k: not k.strip().isdigit(), [stemmer.stem(token) for token in wt.tokenize(comment['body'])]))\n",
    "            tokens_comments[str(post['author_flair_text'])].append(tokens)\n",
    "    except:\n",
    "        continue"
   ]
  },
  {
   "cell_type": "code",
   "execution_count": 62,
   "id": "7a1bf229-cece-4290-8a62-875ca7770b14",
   "metadata": {},
   "outputs": [
    {
     "data": {
      "text/plain": [
       "'231.91164049589588 +/- 217.23961560736828'"
      ]
     },
     "execution_count": 62,
     "metadata": {},
     "output_type": "execute_result"
    }
   ],
   "source": [
    "# Average post token length\n",
    "\n",
    "f\"{sum([len(tp) for tp in tokens_posts])/len(tokens_posts)} +/- {statistics.stdev([len(tp) for tp in tokens_posts])}\""
   ]
  },
  {
   "cell_type": "code",
   "execution_count": 68,
   "id": "0c66fc40-5514-4f1e-809f-ccbc48a1676f",
   "metadata": {},
   "outputs": [
    {
     "data": {
      "text/plain": [
       "array([   0.,  107.,  175.,  284., 6741.])"
      ]
     },
     "execution_count": 68,
     "metadata": {},
     "output_type": "execute_result"
    }
   ],
   "source": [
    "import numpy as np\n",
    "\n",
    "values = [len(tp) for tp in tokens_posts]\n",
    "\n",
    "np.quantile(values, [0,0.25,0.5,0.75,1]) "
   ]
  },
  {
   "cell_type": "code",
   "execution_count": 69,
   "id": "dc35d8c2-f519-4b7e-8d3e-cf63be78b203",
   "metadata": {},
   "outputs": [
    {
     "name": "stdout",
     "output_type": "stream",
     "text": [
      "21.595238095238095 +/- 10.458315475889512\n"
     ]
    },
    {
     "data": {
      "text/plain": [
       "array([ 3. , 15. , 21.5, 28. , 50. ])"
      ]
     },
     "execution_count": 69,
     "metadata": {},
     "output_type": "execute_result"
    }
   ],
   "source": [
    "# Average comment length\n",
    "\n",
    "\n",
    "print(f\"{sum([len(tp) for tp in tokens_comments])/len(tokens_comments)} +/- {statistics.stdev([len(tp) for tp in tokens_comments])}\")\n",
    "values = [len(tp) for tp in tokens_comments]\n",
    "np.quantile(values, [0,0.25,0.5,0.75,1]) "
   ]
  },
  {
   "cell_type": "code",
   "execution_count": 70,
   "id": "83f09b7f-2ec4-4cf3-8c5a-e48874a30886",
   "metadata": {
    "tags": []
   },
   "outputs": [
    {
     "name": "stdout",
     "output_type": "stream",
     "text": [
      "11.212965922460166 +/- 8.435848044054671\n"
     ]
    },
    {
     "data": {
      "text/plain": [
       "array([ 1.,  6.,  9., 14., 88.])"
      ]
     },
     "execution_count": 70,
     "metadata": {},
     "output_type": "execute_result"
    }
   ],
   "source": [
    "# Average title length\n",
    "\n",
    "print(f\"{sum([len(tp) for tp in tokens_titles])/len(tokens_titles)} +/- {statistics.stdev([len(tp) for tp in tokens_titles])}\")\n",
    "values = [len(tp) for tp in tokens_titles]\n",
    "np.quantile(values, [0,0.25,0.5,0.75,1]) "
   ]
  },
  {
   "cell_type": "code",
   "execution_count": 53,
   "id": "72bf27c6-6973-4fae-adf2-b3c16d41c66c",
   "metadata": {
    "scrolled": true,
    "tags": []
   },
   "outputs": [
    {
     "name": "stdout",
     "output_type": "stream",
     "text": [
      "Layperson/not verified as healthcare professional.: 53.894281071655044 +/- 0.00023248698380705151 [302784 samples]\n",
      "Layperson/not verified as healthcare professional: 55.387498919090305 +/- 0.0010390152967217948 [69386 samples]\n",
      "This user has not yet been verified.: 53.04524106771298 +/- 0.00031232327657079116 [218673 samples]\n",
      "Registered Nurse: 47.14939024390244 +/- 0.14842209534205444 [328 samples]\n",
      "Medical Laboratory Scientist: 35.6 +/- 5.193457422565434 [5 samples]\n",
      "Nurse Practitioner: 55.666666666666664 +/- 4.643385288345878 [12 samples]\n",
      "Pharmacist: 66.07462686567165 +/- 1.0403093551915785 [67 samples]\n",
      "Physician: 50.790273556231 +/- 0.05213967316060745 [1316 samples]\n",
      "Licensed Professional Counselor: 27.4 +/- 7.086042619121057 [5 samples]\n",
      "Neuroscientist: 92.33333333333333 +/- 25.84211320335113 [3 samples]\n",
      "Nursing student: 26.2 +/- 4.885488716597348 [5 samples]\n",
      "Medical Student: 70.9104938271605 +/- 0.2879897403245076 [324 samples]\n",
      "Clinical Psychologist: 86.53846153846153 +/- 6.60998701868579 [13 samples]\n",
      "Mental Health Technician: 45.625 +/- 2.7745002365290943 [16 samples]\n",
      "Counsellor: 69.14285714285714 +/- 7.993376752942406 [7 samples]\n",
      "Licensed Practical Nurse: 23.0 +/- 6.0116553460756545 [5 samples]\n",
      "Mental Health Counselor: 72.85714285714286 +/- 8.135932131131087 [7 samples]\n",
      "Medical Laboratory Technologist: 24.0 +/- 6.464647451073157 [4 samples]\n",
      "EMT: 85.21875 +/- 1.7892803805906004 [64 samples]\n",
      "Speech-Language Pathologist: 59.642857142857146 +/- 5.136260050083686 [14 samples]\n",
      "Physical Therapist (DPT): 48.75 +/- 6.850714682912043 [4 samples]\n",
      "Medical Technologist - Microbiology: 52.333333333333336 +/- 4.9325074383755 [6 samples]\n",
      "CT Scan Technologist: 39.77777777777778 +/- 2.2448691689570426 [9 samples]\n",
      "Medical Assistant: 66.05263157894737 +/- 3.643529522595978 [19 samples]\n",
      "Registered Nurse - Moderator - Top Contributor : 38.333333333333336 +/- 3.6717136981907346 [3 samples]\n",
      "Medical student: 67.88888888888889 +/- 2.6417606588564215 [18 samples]\n",
      "Paramedic: 77.88888888888889 +/- 3.063764907976258 [27 samples]\n",
      "Physical Therapist: 77.85714285714286 +/- 11.968617857174602 [7 samples]\n",
      "Physician | Moderator: 50.704503392967304 +/- 0.036470022289704376 [1621 samples]\n",
      "Physician - Internal Medicine: 38.0 +/- 3.3634060117684275 [8 samples]\n",
      "Licensed Vocational Nurse (retired): 22.0 +/- 2.8284271247461903 [2 samples]\n",
      "Medical Laboratory Technician: 70.57142857142857 +/- 3.027625834639977 [28 samples]\n",
      "Physician | Moderator | Top Contributor: 54.340673575129536 +/- 0.09395592069664362 [772 samples]\n",
      "Medical assistant - Phlebotomist: 120.0 +/- 21.920310216782973 [2 samples]\n",
      "Behavioral Health Counselor: 128.0 +/- 10.481124379281464 [15 samples]\n",
      "Licensed Vocational Nurse: 45.0 +/- 15.556349186104045 [2 samples]\n",
      "LPN: 146.0 +/- 4.949747468305833 [2 samples]\n",
      "Radiographer: 55.5 +/- 4.995275545730964 [6 samples]\n",
      "Neonatal Nurse Practitioner: 53.164556962025316 +/- 0.15923737853212358 [395 samples]\n",
      "Pharmacy Student: 72.0 +/- 10.571975532825768 [6 samples]\n",
      "Nurse Aide: 81.56666666666666 +/- 3.0099411704047596 [30 samples]\n",
      "Licensed Alcohol and Drug Counselor: 34.833333333333336 +/- 4.923206573257207 [6 samples]\n",
      "Behavioral Technician: 32.9375 +/- 1.7424642437149178 [16 samples]\n",
      "Psychiatric Nurse Practitioner: 39.0 +/- 3.756475889861548 [3 samples]\n",
      "Path Asst/Med Lab Tech: 36.5 +/- 18.738329701443508 [2 samples]\n",
      "Emergency Medical Technician: 35.7 +/- 1.7868010227042188 [20 samples]\n",
      "PharmD: 27.25 +/- 9.09756148646438 [4 samples]\n",
      "Pediatric Nurse Practitioner: 40.5 +/- 24.39518395093589 [2 samples]\n",
      "Patient Care Technician: 27.9 +/- 3.347121483039154 [10 samples]\n",
      "EMT-B: 111.85 +/- 3.631669001553157 [20 samples]\n",
      "Behavioral Health Therapist: 43.5 +/- 7.424621202458749 [2 samples]\n",
      "Otolaryngologist (ENT): 105.5 +/- 22.134531845060557 [4 samples]\n",
      "Certified Pharmacy Technician: 53.07692307692308 +/- 3.368180016819427 [13 samples]\n",
      "Mental Health Professional: 178.0 +/- 29.698484809834994 [2 samples]\n",
      "Psychologist: 15.0 +/- 3.6228441865473595 [4 samples]\n",
      "Midwife: 50.65 +/- 3.421421488212173 [20 samples]\n",
      " Registered Nurse: 20.0 +/- 12.020815280171307 [2 samples]\n",
      "Nursing Student: 79.03636363636363 +/- 2.23715997876118 [55 samples]\n",
      "slp: 14.5 +/- 0.3535533905932738 [2 samples]\n",
      "EMT, BSN Student: 54.0 +/- 6.363961030678928 [2 samples]\n",
      "Specialist Radiographer: 49.57142857142857 +/- 5.1374688325897315 [7 samples]\n",
      "Radiologic Technologist: 39.666666666666664 +/- 1.7031561116764196 [15 samples]\n",
      "Dialysis Technician: 61.0 +/- 16.736520280844257 [3 samples]\n",
      "Genetic Counselor: 123.3 +/- 14.283094124795852 [10 samples]\n",
      "Registered Dietitian: 68.11111111111111 +/- 10.825559097192341 [9 samples]\n",
      "Student Radiographer: 67.4 +/- 4.502759387893512 [20 samples]\n",
      "PhD Biobehavioral Health: 48.4 +/- 3.8283155564817277 [10 samples]\n",
      "Founder: 50.67857142857143 +/- 0.9372354737680173 [56 samples]\n",
      "Epidemiologist: 30.636363636363637 +/- 1.3662234412276346 [11 samples]\n",
      "Radiology/Lab Technician: 23.333333333333332 +/- 1.5299479536052003 [6 samples]\n",
      "Military Medic: 25.333333333333332 +/- 6.466437567533983 [3 samples]\n",
      "Physician - Pulmonary/Critical Care Fellow: 54.40384615384615 +/- 1.328298190217534 [52 samples]\n",
      "Physician - Ophthalmologist: 125.0 +/- 84.14570696119915 [2 samples]\n",
      "Social Worker/LCSW: 44.0 +/- 1.8505792091992541 [23 samples]\n"
     ]
    }
   ],
   "source": [
    "for author_type, lengths in tokens_comments.items():\n",
    "    if str(author_type) == \"nan\":\n",
    "        continue\n",
    "\n",
    "    # Merge layperson category\n",
    "    try:\n",
    "        print(f\"{author_type}: {sum(len(l) for l in lengths)/len(lengths)} +/- {statistics.stdev(len(l) for l in lengths)/len(lengths)} [{len(lengths)} samples]\")\n",
    "    except:\n",
    "        continue"
   ]
  },
  {
   "cell_type": "markdown",
   "id": "322dc617-0e26-4a96-b0c9-e967a62e39c8",
   "metadata": {
    "tags": []
   },
   "source": [
    "## Jaccard Similarity\n",
    "\n",
    "J(A, B) = Intersection / Union"
   ]
  },
  {
   "cell_type": "code",
   "execution_count": 54,
   "id": "77a39250-6a38-4fb7-a201-c9f7df3c80c1",
   "metadata": {
    "tags": []
   },
   "outputs": [],
   "source": [
    "tokens_layperson = []\n",
    "tokens_expert = []\n",
    "\n",
    "for author_type, tokens in tokens_comments.items():\n",
    "    if \"yet been verified\" in author_type.lower():\n",
    "        continue\n",
    "    \n",
    "    if \"nan\" == author_type:\n",
    "        continue\n",
    "    \n",
    "    if \"layperson\" in author_type.lower():\n",
    "        for t in tokens:\n",
    "            tokens_layperson.extend(t)\n",
    "    if 'physician' in author_type.lower():\n",
    "        for t in tokens:\n",
    "            tokens_expert.extend(t)"
   ]
  },
  {
   "cell_type": "code",
   "execution_count": 55,
   "id": "4b2b1055-722c-477c-a674-738fe12a0abc",
   "metadata": {
    "tags": []
   },
   "outputs": [],
   "source": [
    "tokens_layperson = set(tokens_layperson)\n",
    "tokens_expert = set(tokens_expert)"
   ]
  },
  {
   "cell_type": "code",
   "execution_count": 56,
   "id": "0501a1ad-e3b4-46f4-8a8d-ad9329f7459b",
   "metadata": {},
   "outputs": [
    {
     "data": {
      "text/plain": [
       "0.8956222488995598"
      ]
     },
     "execution_count": 56,
     "metadata": {},
     "output_type": "execute_result"
    }
   ],
   "source": [
    "len(tokens_layperson.difference(tokens_expert))/len(tokens_layperson.union(tokens_expert))"
   ]
  },
  {
   "cell_type": "code",
   "execution_count": 57,
   "id": "9e843636-3b6f-43cb-8a73-0092b9626421",
   "metadata": {
    "scrolled": true,
    "tags": []
   },
   "outputs": [
    {
     "data": {
      "text/plain": [
       "{'gabbapentin',\n",
       " 'mea',\n",
       " 'war_wound',\n",
       " 'pericardiocentesi',\n",
       " 'glimps',\n",
       " 'otherday',\n",
       " 'microsporum',\n",
       " 'sbft',\n",
       " 'lilli',\n",
       " 'assail',\n",
       " 'piney',\n",
       " 'vitriou',\n",
       " 'stolarska',\n",
       " 'aspca',\n",
       " 'nonferromagnet',\n",
       " 'correctedmi',\n",
       " 'uaclear',\n",
       " 'bibliotherapi',\n",
       " 'hypoechogen',\n",
       " 'hardcor',\n",
       " 'postprandi',\n",
       " 'bursari',\n",
       " 'taichi',\n",
       " 'cytolit',\n",
       " 'pih',\n",
       " 'sehr',\n",
       " 'spritz',\n",
       " 'tgank',\n",
       " 'extrasystol',\n",
       " 'outsiz',\n",
       " 'emergenc',\n",
       " 'intersect',\n",
       " 'smugli',\n",
       " 'hodgepodg',\n",
       " 'chage',\n",
       " 'ehhh',\n",
       " 'stocki',\n",
       " 'theft',\n",
       " 'dacebook',\n",
       " 'tyramin',\n",
       " '😳😬',\n",
       " 'zeller',\n",
       " 'fugax',\n",
       " 'whetehr',\n",
       " 'unrib',\n",
       " 'neeed',\n",
       " 'clotor',\n",
       " 'zing',\n",
       " 'dickinson',\n",
       " 'incrediblyshinyshart',\n",
       " '189lb',\n",
       " 'prothest',\n",
       " 'dumba',\n",
       " 'skewl',\n",
       " 'meizitang',\n",
       " '\\\\~$',\n",
       " ':-))',\n",
       " '(„',\n",
       " 'laryngologist',\n",
       " 'underutil',\n",
       " 'nova',\n",
       " 'ebb',\n",
       " 'chloral',\n",
       " 'cogenit',\n",
       " '.!!',\n",
       " 'nerf',\n",
       " 'blepharoplasti',\n",
       " 'haircut',\n",
       " 'blous',\n",
       " 'epitaph',\n",
       " '15000iu',\n",
       " 'fugggggggggg',\n",
       " 'chxbg',\n",
       " '\"](',\n",
       " 'fwlt',\n",
       " 'outa',\n",
       " 'druggist',\n",
       " '?)...',\n",
       " 'feeverish',\n",
       " 'aww',\n",
       " 'shewil',\n",
       " 'forefront',\n",
       " 'heyo',\n",
       " 'bitterroot',\n",
       " 'vicryl',\n",
       " 'thisbpost',\n",
       " 'doctorz',\n",
       " ':(((',\n",
       " 'flounder',\n",
       " 'swarm',\n",
       " '!!!)',\n",
       " 'earthli',\n",
       " 'lvi',\n",
       " 'expressway',\n",
       " 'tkinesigen',\n",
       " 'salesmen',\n",
       " 'facewash',\n",
       " 'hull',\n",
       " 'b9',\n",
       " 'acutan',\n",
       " '^^^[',\n",
       " 'cardioembol',\n",
       " 'tmc',\n",
       " 'aphasia',\n",
       " 'wip',\n",
       " 'famitodin',\n",
       " 'gynonc',\n",
       " 'amitrypitilin',\n",
       " 'uhi',\n",
       " 'sunblock',\n",
       " 'sagit',\n",
       " 'keenli',\n",
       " 'thoguht',\n",
       " 'wpuldnt',\n",
       " 'caluld',\n",
       " 'osteoperosi',\n",
       " 'deswel',\n",
       " 'funkier',\n",
       " 'experiec',\n",
       " 'craneal',\n",
       " 'sleepier',\n",
       " 'velveti',\n",
       " 'assumidli',\n",
       " 'groggili',\n",
       " 'paragard',\n",
       " 'midcycl',\n",
       " 'bureaucraci',\n",
       " 'widegren',\n",
       " 'aspergillosi',\n",
       " 'lumē',\n",
       " 'cavernosographi',\n",
       " 'lipomatosi',\n",
       " 'petroleatum',\n",
       " 'sim',\n",
       " 'proteu',\n",
       " '400km',\n",
       " 'zyst',\n",
       " 'chitowncarm',\n",
       " 'yussth',\n",
       " 'mammary_ridg',\n",
       " 'sharpen',\n",
       " 'ogtt',\n",
       " 'flukey',\n",
       " 'glucosodas',\n",
       " 'ezperi',\n",
       " 'othet',\n",
       " 'ttapeziu',\n",
       " 'unendingli',\n",
       " 'asthenia',\n",
       " 'nailb',\n",
       " 'villain',\n",
       " 'sweati',\n",
       " 'hickori',\n",
       " 'califlow',\n",
       " '_something_',\n",
       " 'chirotherapi',\n",
       " '5gr',\n",
       " 'mhz',\n",
       " 'divya',\n",
       " 'hematocrit',\n",
       " 'antismooth',\n",
       " 'chiroquacki',\n",
       " 'agre3',\n",
       " 'n1',\n",
       " 'asum',\n",
       " '♥',\n",
       " 'swfa',\n",
       " 'engerix',\n",
       " 'cholecystitist',\n",
       " 'ventur',\n",
       " 'watereth',\n",
       " '☮️',\n",
       " 'hemolysi',\n",
       " 'unthreaten',\n",
       " 'tidi',\n",
       " '14x11x7mm',\n",
       " 'drumrol',\n",
       " 'costochrod',\n",
       " 'desn',\n",
       " 'lamda',\n",
       " 'swvmuzmm3',\n",
       " 'doktor',\n",
       " 'mommyjack',\n",
       " 'haa',\n",
       " 'turtl',\n",
       " 'cruel',\n",
       " 'day2',\n",
       " 'oncolysi',\n",
       " 'mcgreal',\n",
       " 'ppp',\n",
       " 'guaifenisin',\n",
       " 'alexand',\n",
       " 'synton',\n",
       " 'queezi',\n",
       " 'goop',\n",
       " 'elit',\n",
       " 'immigr',\n",
       " '8week',\n",
       " 'postdischarg',\n",
       " 'pep',\n",
       " 'needlework',\n",
       " 'godforbid',\n",
       " 'elstat',\n",
       " 'multifoc',\n",
       " 'eulog',\n",
       " 'guillam',\n",
       " '\\\\>>',\n",
       " 'suuuuuper',\n",
       " 'quil',\n",
       " 'ertesi',\n",
       " 'preliminaryspecimen',\n",
       " 'chisel',\n",
       " 'retel',\n",
       " 'dayish',\n",
       " 'fibro',\n",
       " 'planetfit',\n",
       " 'abr',\n",
       " 'bars',\n",
       " 'kil',\n",
       " 'microsurg',\n",
       " 'kruidvat',\n",
       " 'falsif',\n",
       " 'nongrowth',\n",
       " 'lisocain',\n",
       " 'speel',\n",
       " 'kv',\n",
       " 'crisscross',\n",
       " 'elektrolyt',\n",
       " 'airspac',\n",
       " 'qhole',\n",
       " 'luminisc',\n",
       " 'btdt',\n",
       " 'scholarship',\n",
       " 'pyle',\n",
       " 'galactomannan',\n",
       " 'sweatiest',\n",
       " 'nto',\n",
       " 'quedtion',\n",
       " 'suggamadex',\n",
       " 'usu',\n",
       " 'hypopig',\n",
       " 'qeak',\n",
       " 'esbl',\n",
       " 'caroma',\n",
       " 'malefic',\n",
       " 'fascist',\n",
       " 'sodomis',\n",
       " 'fidgeti',\n",
       " 'labrador',\n",
       " 'dio',\n",
       " 'hyponychium',\n",
       " 'preflight',\n",
       " 'portmanteau',\n",
       " 'accupunctur',\n",
       " 'husk',\n",
       " 'strangest',\n",
       " 'herper',\n",
       " 'perinium',\n",
       " '❤️☹️',\n",
       " 'ˇ',\n",
       " 'kunt',\n",
       " 'swanson',\n",
       " 'encircl',\n",
       " 'hellscap',\n",
       " 'arcu',\n",
       " '(&',\n",
       " '(+?)',\n",
       " 'aveda',\n",
       " 'bert',\n",
       " 'intercellular',\n",
       " 'marin',\n",
       " 'exaaaactli',\n",
       " 'sensationalis',\n",
       " 'stratum',\n",
       " 'starchi',\n",
       " 'mse',\n",
       " 'furadantin',\n",
       " 'zijn',\n",
       " 'duel',\n",
       " 'sonomammographi',\n",
       " 'toid',\n",
       " 'aroun',\n",
       " 'xchromosom',\n",
       " 'lowcarbketorecip',\n",
       " 'betuak',\n",
       " 'dyke',\n",
       " 'jvp',\n",
       " '63kg',\n",
       " 'adukt',\n",
       " 'feeti',\n",
       " 'circums',\n",
       " 'covd',\n",
       " 'muniz',\n",
       " 'myer',\n",
       " 'photosensit',\n",
       " 'samuel',\n",
       " 'carra',\n",
       " 'bellick',\n",
       " '400k',\n",
       " 'folx',\n",
       " 'yeasr',\n",
       " 'miricl',\n",
       " 'nonpsychiatr',\n",
       " '[^^',\n",
       " 'heparin',\n",
       " 'tricep',\n",
       " '25ug',\n",
       " 'pheneragain',\n",
       " 'maketh',\n",
       " 'bridal',\n",
       " 'antiviru',\n",
       " 'nervig',\n",
       " 'disgruntl',\n",
       " 'inpanol',\n",
       " 'rundown',\n",
       " 'metformina',\n",
       " 'lymi',\n",
       " '𝓷𝓲𝓬𝓮',\n",
       " 'automot',\n",
       " 'orthroped',\n",
       " 'pgy1',\n",
       " 'genitofemor',\n",
       " '^(-',\n",
       " ':)))))).',\n",
       " '“/',\n",
       " 'kll2',\n",
       " 'okok',\n",
       " 'unset',\n",
       " 'excis',\n",
       " 'phychiatrist',\n",
       " 'nespavanj',\n",
       " 'insersect',\n",
       " 'upslop',\n",
       " 'hep2go',\n",
       " 'niblet89',\n",
       " 'ow',\n",
       " 'cue',\n",
       " 'antivaxx',\n",
       " 'calip',\n",
       " 'h2blocker',\n",
       " '○',\n",
       " 'pituritari',\n",
       " 'tellyou',\n",
       " '250ug',\n",
       " 'autosexu',\n",
       " 'crout',\n",
       " 'yh',\n",
       " 'exceric',\n",
       " 'setback',\n",
       " 'undiscov',\n",
       " 'itt',\n",
       " 'paramed',\n",
       " 'microphobia',\n",
       " 'scud',\n",
       " 'physicitrist',\n",
       " 'bookmark',\n",
       " 'dailymail',\n",
       " 'pfft',\n",
       " '‚',\n",
       " 'possum',\n",
       " 'pmmti',\n",
       " 'bcaus',\n",
       " 'aza',\n",
       " 'elsewear',\n",
       " 'manytim',\n",
       " '_they',\n",
       " 'encopresi',\n",
       " 'grumbl',\n",
       " 'mission',\n",
       " 'nameless',\n",
       " 'e202',\n",
       " 'ex3when',\n",
       " '10oz',\n",
       " 'inb4',\n",
       " '55kg',\n",
       " 'bort',\n",
       " 'doxcyclin',\n",
       " 'anonymu',\n",
       " 'echoic',\n",
       " 'belch',\n",
       " 'uln',\n",
       " 'nurtur',\n",
       " 'chlorhydr',\n",
       " 'mollecul',\n",
       " 'overboard',\n",
       " 'leadership',\n",
       " '!￼',\n",
       " 'infantilz',\n",
       " 'mengetrapedtoo',\n",
       " 'stimpi',\n",
       " 'prokera',\n",
       " 'marinad',\n",
       " 'vend',\n",
       " '50i',\n",
       " 'childfre',\n",
       " 'cellulos',\n",
       " 'bpyour',\n",
       " 'hindranc',\n",
       " 'img4',\n",
       " 'limbless',\n",
       " 'underbit',\n",
       " 'ascertio',\n",
       " 'nicola',\n",
       " '☆♡☆',\n",
       " 'whixh',\n",
       " 'shader',\n",
       " 'circulationaha',\n",
       " 'completley',\n",
       " 'hurlburt',\n",
       " 'immodest',\n",
       " 'oligoarticular',\n",
       " 'vanlafaxin',\n",
       " 'exhang',\n",
       " 'amenia',\n",
       " 'mycolog',\n",
       " 'barrag',\n",
       " 'diper',\n",
       " 'anhydrosi',\n",
       " 'ectop',\n",
       " '800g',\n",
       " 'valgancyclovir',\n",
       " 'sulphuri',\n",
       " 'dcr',\n",
       " 'ventilatori',\n",
       " 'neproxin',\n",
       " 'electrocardio',\n",
       " 'magnoplasim',\n",
       " 'docto',\n",
       " 'dysparaneuia',\n",
       " 'mhhh',\n",
       " 'clenbuter',\n",
       " 'distractor',\n",
       " 'killjoy',\n",
       " 'slot',\n",
       " 'aye',\n",
       " 'prehab',\n",
       " 'hemophilu',\n",
       " '💫',\n",
       " 'willne',\n",
       " 'sgtsluggo',\n",
       " 'bescom',\n",
       " '👎',\n",
       " 'geneticust',\n",
       " 'gastrojejunocol',\n",
       " '?./',\n",
       " 'går',\n",
       " 'chn',\n",
       " 'sntibodi',\n",
       " 'thrirsti',\n",
       " 'helsefagarbeid',\n",
       " 'tibula',\n",
       " 'progression',\n",
       " 'accucheck',\n",
       " 'talu',\n",
       " 'perspir',\n",
       " '42day',\n",
       " 'reimer',\n",
       " 'scold',\n",
       " 'adicion',\n",
       " 'weav',\n",
       " 'infrapatellar',\n",
       " 'olmesartan',\n",
       " 'prolotherapi',\n",
       " 'robo',\n",
       " 'qn',\n",
       " 'hormal',\n",
       " 'reasaur',\n",
       " 'pretri',\n",
       " 'exec',\n",
       " 'vascovagular',\n",
       " 'talar',\n",
       " 'cumul',\n",
       " 'posttitlelink',\n",
       " 'learnabl',\n",
       " 'wadsworth',\n",
       " 'occat',\n",
       " 'mtn',\n",
       " 'pupos',\n",
       " 'sigma',\n",
       " 'rai',\n",
       " 'arrythma',\n",
       " 'mrse',\n",
       " 'hcc',\n",
       " 'cobolt',\n",
       " 'retroflect',\n",
       " 'lymphag',\n",
       " 'saccharin',\n",
       " 'telemetri',\n",
       " 'broiler',\n",
       " 'basilari',\n",
       " '57in',\n",
       " 'conidit',\n",
       " 'seconf',\n",
       " 'iabp',\n",
       " 'salk',\n",
       " 'physcholog',\n",
       " '114mg',\n",
       " 'headon',\n",
       " 'nsri',\n",
       " '🤜🏻🤛🏻',\n",
       " '148lb',\n",
       " 'otit',\n",
       " 'umbrella',\n",
       " 'clusterf',\n",
       " '130ish',\n",
       " 'peritonit',\n",
       " 'eddi',\n",
       " 'rhodococcu',\n",
       " 'allo',\n",
       " 'blogspot',\n",
       " 'eli',\n",
       " 'trillion',\n",
       " '::)',\n",
       " 'almostw',\n",
       " 'cryptogen',\n",
       " 'gynecomasti',\n",
       " 'alesdo1986',\n",
       " 'xp',\n",
       " 'piddl',\n",
       " 'innocu',\n",
       " 'deloxetin',\n",
       " 'cgrp',\n",
       " 'unibrow',\n",
       " 'onychomyosi',\n",
       " 'lgbtq',\n",
       " 'edsr',\n",
       " 'sen',\n",
       " 'fount',\n",
       " 'gerontologist',\n",
       " 'intercrani',\n",
       " '1min',\n",
       " 'tuition',\n",
       " 'actinidain',\n",
       " 'utimili',\n",
       " 'lahey',\n",
       " 'returneth',\n",
       " 'gesellschaft',\n",
       " 'darren',\n",
       " 'corpsmen',\n",
       " 'clarithoymycin',\n",
       " 'contour',\n",
       " 'tenol',\n",
       " 'conserc',\n",
       " 'liptor',\n",
       " '78cm',\n",
       " 'pul',\n",
       " 'bucki',\n",
       " 'deoxygen',\n",
       " 'palo',\n",
       " 'torsad',\n",
       " 'uvb',\n",
       " 'formulari',\n",
       " 'booni',\n",
       " 'unleash',\n",
       " 'aai',\n",
       " 'raha',\n",
       " 'neuriti',\n",
       " 'fungicid',\n",
       " 'truenutrit',\n",
       " 'lengua',\n",
       " '5000ui',\n",
       " 'butiki',\n",
       " 'delgado',\n",
       " 'golden',\n",
       " 'beyondthebump',\n",
       " 'unregular',\n",
       " 'nao',\n",
       " 'pluss',\n",
       " 'adenosin',\n",
       " 'straighter',\n",
       " 'koort',\n",
       " 'erin',\n",
       " 'iniat',\n",
       " 'nsfw',\n",
       " 'pash',\n",
       " 'nacho',\n",
       " 'unsourc',\n",
       " 'donperidon',\n",
       " 'séronég',\n",
       " 'pyridium',\n",
       " 'marijuanaenthusiast',\n",
       " 'visiblili',\n",
       " 'kush',\n",
       " 'seeminli',\n",
       " 'philippino',\n",
       " 'subjac',\n",
       " 'www',\n",
       " 'iy',\n",
       " 'bryan',\n",
       " 'proctaglia',\n",
       " 'adtraditional7237',\n",
       " '😊🙏',\n",
       " 'hemicapit',\n",
       " 'waterwip',\n",
       " 'maltas',\n",
       " '110bpm',\n",
       " 'irrefut',\n",
       " 'cylindr',\n",
       " 'nailpolish',\n",
       " 'allucin',\n",
       " '(~',\n",
       " 'fiddli',\n",
       " 'schatzki',\n",
       " 'theca',\n",
       " 'rhogam',\n",
       " 'conker',\n",
       " 'nortryptylin',\n",
       " 'spansm',\n",
       " 'etesivimab',\n",
       " 'm99',\n",
       " 'cornaviru',\n",
       " 'nth',\n",
       " 'diamond',\n",
       " 'snowfal',\n",
       " 'polyurethan',\n",
       " 'recognis',\n",
       " 'rumbl',\n",
       " 'fetanyl',\n",
       " 'dab',\n",
       " 'amonnia',\n",
       " 'cochlear',\n",
       " 'precrib',\n",
       " 'multim',\n",
       " 'puffbar',\n",
       " 'uselessconversionbot',\n",
       " 'roseroseshop',\n",
       " 'cull',\n",
       " 'pregnacar',\n",
       " 'hematokryt',\n",
       " '\";',\n",
       " 'plunger',\n",
       " 'workmat',\n",
       " 'bipolarso',\n",
       " 'livido',\n",
       " 'adalimumab',\n",
       " 'fastfeel',\n",
       " 'stilo',\n",
       " 'myfamili',\n",
       " 'prostatectomi',\n",
       " 'spooki',\n",
       " 'provost',\n",
       " 'loma',\n",
       " '???)',\n",
       " 'luteum',\n",
       " 'qudstion',\n",
       " 'bossch',\n",
       " 'alk1',\n",
       " 'pericardial_friction_rub',\n",
       " 'mellow',\n",
       " 'atrent',\n",
       " 'edoscopi',\n",
       " 'psychd',\n",
       " 'indicit',\n",
       " 'sunburnt',\n",
       " 'ayt',\n",
       " 'sequitur',\n",
       " 'ervoor',\n",
       " 'dischagr',\n",
       " 'tangi',\n",
       " 'unmut',\n",
       " 'stetoherrea',\n",
       " '300ng',\n",
       " 'splotchier',\n",
       " 'iyengar',\n",
       " 'gonadotropin',\n",
       " 'adrc',\n",
       " 'gbq',\n",
       " 'dtop',\n",
       " 'dao',\n",
       " 'sez',\n",
       " 'muro',\n",
       " 'nike',\n",
       " 'countermand',\n",
       " 'weli',\n",
       " 'durham',\n",
       " 'shenaningan',\n",
       " 'shart',\n",
       " 'statt',\n",
       " 'apophenia',\n",
       " '🌈',\n",
       " 'colonographi',\n",
       " 'renogram',\n",
       " '35g',\n",
       " '😩.',\n",
       " 'outdo',\n",
       " 'diagnonsi',\n",
       " 'speciali',\n",
       " 'mcrib',\n",
       " 'bruno',\n",
       " 'puch',\n",
       " 'meniscus',\n",
       " 'expuls',\n",
       " 'semenretent',\n",
       " 'sug',\n",
       " 'qme',\n",
       " 'regardig',\n",
       " 'railway',\n",
       " 'reve',\n",
       " 'anod',\n",
       " 'zebra',\n",
       " '630am',\n",
       " 'ho',\n",
       " 'chemosi',\n",
       " 'postinflammatori',\n",
       " 'epv',\n",
       " 'mucha',\n",
       " 'toxidrom',\n",
       " 'hyperosmolar',\n",
       " 'remifentanil',\n",
       " 'burnout',\n",
       " 'spook',\n",
       " 'vaper',\n",
       " 'videochat',\n",
       " '18pm',\n",
       " 'anzieti',\n",
       " 'blepharochalasi',\n",
       " 'phenol',\n",
       " 'semiolog',\n",
       " 'willlbrand',\n",
       " 'coldish',\n",
       " 'vomitt',\n",
       " 'furthest',\n",
       " 'polydactyl',\n",
       " 'mangler',\n",
       " 'repav',\n",
       " 'jobbet',\n",
       " '20yr',\n",
       " 'upcod',\n",
       " 'scleorderma',\n",
       " 'dropdown',\n",
       " 'chalki',\n",
       " 'urol',\n",
       " 'mallet',\n",
       " 'pattaya',\n",
       " 'hemachromatosi',\n",
       " 'sideffect',\n",
       " 'intricaci',\n",
       " 'destigmat',\n",
       " 'hellish',\n",
       " 'dojt',\n",
       " '🤣🤣🤔',\n",
       " 'yourselv',\n",
       " '???\"',\n",
       " 'botuli',\n",
       " '??????????????',\n",
       " 'manometeri',\n",
       " 'vitb12',\n",
       " 'congratul',\n",
       " 'fistbump',\n",
       " 'volkswagen',\n",
       " 'sequenti',\n",
       " 'postdrom',\n",
       " 'doujutsu',\n",
       " 'blodpressur',\n",
       " 'cartilidg',\n",
       " 'undertaken',\n",
       " 'deed',\n",
       " 'nocontext',\n",
       " 'bombard',\n",
       " 'constraint',\n",
       " 'periappend',\n",
       " 'squirm',\n",
       " 'askpharmacist',\n",
       " 'tattoo',\n",
       " 'summar',\n",
       " 'attakc',\n",
       " 'pedyalit',\n",
       " 'morgellen',\n",
       " 'citron',\n",
       " 'rhematod',\n",
       " 'carbonid',\n",
       " '[.',\n",
       " 'curett',\n",
       " '/¯\".',\n",
       " 'parinaud',\n",
       " 'staphylococc',\n",
       " 'aak',\n",
       " 'amorph',\n",
       " 'lizzytre',\n",
       " 'deinfect',\n",
       " 'ahahah',\n",
       " 'norgestim',\n",
       " 'rhodiola',\n",
       " 'unprovok',\n",
       " 'mittelschmirz',\n",
       " 'cheddar',\n",
       " '90min',\n",
       " 'syphallu',\n",
       " 'deutetrabenazin',\n",
       " 'assman',\n",
       " 'b27',\n",
       " 'jasper',\n",
       " 'pythiosi',\n",
       " 'sakcler',\n",
       " 'procardia',\n",
       " 'simpton',\n",
       " 'exerciserest',\n",
       " 'hepar',\n",
       " ')](',\n",
       " 'pancytopenia',\n",
       " 'gevaarlijk',\n",
       " 'pharmacogenet',\n",
       " 'okra',\n",
       " 'flexhal',\n",
       " 'thiol',\n",
       " 'maldiv',\n",
       " '😊😊😊😊',\n",
       " 'frex',\n",
       " 'badger',\n",
       " 'bitti',\n",
       " 'ignit',\n",
       " 'suffix',\n",
       " 'eczhema',\n",
       " 'displeas',\n",
       " 'dema',\n",
       " 'kremil',\n",
       " 'prantopazol',\n",
       " 'pitää',\n",
       " 'zombeav',\n",
       " 'premonitori',\n",
       " 'dantien',\n",
       " '3dl',\n",
       " 'flaxen',\n",
       " 'lrd',\n",
       " 'towelett',\n",
       " 'laryn',\n",
       " 'otherwise_hearing_29',\n",
       " 'unrepair',\n",
       " 'reinfus',\n",
       " 'antbodi',\n",
       " '_when',\n",
       " '5l',\n",
       " 'farmacia',\n",
       " 'wine',\n",
       " 'cetonico',\n",
       " 'wheeliecam',\n",
       " 'woudl',\n",
       " 'hippopotamu',\n",
       " 'gruberi',\n",
       " '1tiddygothgf',\n",
       " 'duber',\n",
       " 'aropax',\n",
       " 'keepup',\n",
       " 'unretractil',\n",
       " 'airpip',\n",
       " 'rhumetoid',\n",
       " 'sisyphu',\n",
       " 'effortless',\n",
       " 'readmiss',\n",
       " 'coerciv',\n",
       " 'nucleolar',\n",
       " 'glomerulosa',\n",
       " 'lisch',\n",
       " 'aboutseek',\n",
       " '😰😰😰',\n",
       " 'colonyscopi',\n",
       " 'dinki',\n",
       " '🪙',\n",
       " 'undamag',\n",
       " 'zaza',\n",
       " 'alz',\n",
       " 'sicher',\n",
       " 'pindolol',\n",
       " 'mulluscom',\n",
       " 'weeni',\n",
       " 'adair',\n",
       " 'freestand',\n",
       " 'shrapnel',\n",
       " 'youscreen',\n",
       " 'pued',\n",
       " 'consciousnessor',\n",
       " 'brrrrrrrrrr',\n",
       " 'neavu',\n",
       " 'adenotonsilectomi',\n",
       " 'startch',\n",
       " 'assad',\n",
       " 'depig',\n",
       " 'geweest',\n",
       " 'meati',\n",
       " 'scrubber',\n",
       " 'lchf',\n",
       " 'follw',\n",
       " 'groomer',\n",
       " 'jasmin',\n",
       " 'soun',\n",
       " 'lifeblood',\n",
       " 'gliotic',\n",
       " 'wafflecon',\n",
       " 'beter',\n",
       " 'wydm',\n",
       " '*\",',\n",
       " 'lymphoblast',\n",
       " 'cohosh',\n",
       " 'expoect',\n",
       " 'gylo',\n",
       " '5w',\n",
       " 'forgotbto',\n",
       " 'digress',\n",
       " 'malad',\n",
       " 'schwarzenegg',\n",
       " 'aprn',\n",
       " 'workstat',\n",
       " 'een',\n",
       " 'cdl',\n",
       " 'quinin',\n",
       " 'restain',\n",
       " 'perineoplasti',\n",
       " 'antagon',\n",
       " 'ralli',\n",
       " 'photo5',\n",
       " 'mindset',\n",
       " 'clorin',\n",
       " 'bullhead',\n",
       " 'overridden',\n",
       " 'bogo',\n",
       " 'weightlosstechniqu',\n",
       " 'trickiest',\n",
       " '🙈.',\n",
       " 'bodycam',\n",
       " 'realllyyyy',\n",
       " 'aefi',\n",
       " 'stronnnggg',\n",
       " 'incher',\n",
       " 'chropractor',\n",
       " 'suicidewatch',\n",
       " ',’',\n",
       " 'boomboomcoconut',\n",
       " '1b',\n",
       " '😋',\n",
       " 'bach',\n",
       " 'literallh',\n",
       " 'asynchron',\n",
       " 'howcovid',\n",
       " 'pettella',\n",
       " 'preplex',\n",
       " 'penil',\n",
       " 'indistinct',\n",
       " 'nwo',\n",
       " 'reeaaaali',\n",
       " 'trazadon',\n",
       " 'cavernosa',\n",
       " 'depict',\n",
       " 'sexdriv',\n",
       " 'rosaca',\n",
       " 'mk677',\n",
       " 'unsoci',\n",
       " '5r',\n",
       " 'arv',\n",
       " 'trackt',\n",
       " 'pequena',\n",
       " 'scgh',\n",
       " 'duopoli',\n",
       " 'font',\n",
       " '—(',\n",
       " 'mentiond',\n",
       " 'stdd',\n",
       " 'caloriesfor',\n",
       " 'decoy',\n",
       " 'vacc8nat',\n",
       " 'hellofresh',\n",
       " 'gavinscon',\n",
       " 'acebutolol',\n",
       " '🙂😁',\n",
       " 'nutramugen',\n",
       " 'hydrophil',\n",
       " 'circumcis',\n",
       " 'cringi',\n",
       " 'bachelor',\n",
       " 'inmedi',\n",
       " 'wikiledia',\n",
       " 'mitochondrri',\n",
       " '2200g',\n",
       " 'hesperidin',\n",
       " 'ivel',\n",
       " 'grannul',\n",
       " 'jame',\n",
       " 'micropunctur',\n",
       " 'remembr',\n",
       " 'geometr',\n",
       " 'overarch',\n",
       " '🙂👍🏻',\n",
       " 'tempitur',\n",
       " 'inadvert',\n",
       " 'theraband',\n",
       " 'prophi',\n",
       " 'notreclus',\n",
       " 'definetelti',\n",
       " 'symtpom',\n",
       " 'mafenam',\n",
       " 'earthi',\n",
       " 'habitd',\n",
       " '\"“',\n",
       " 'moistor',\n",
       " '115f',\n",
       " 'oxat',\n",
       " 'fascial',\n",
       " 'fsirli',\n",
       " 'steppag',\n",
       " 'budesonid',\n",
       " 'strangul',\n",
       " ...}"
      ]
     },
     "execution_count": 57,
     "metadata": {},
     "output_type": "execute_result"
    }
   ],
   "source": [
    "tokens_layperson.difference(tokens_expert)"
   ]
  },
  {
   "cell_type": "markdown",
   "id": "78394dae-8dae-4e4f-8a3e-1e36a85f1ec0",
   "metadata": {
    "tags": []
   },
   "source": [
    "# Vocabulary Analysis\n",
    "\n",
    "- Logistic Regression between a post between a physican and layperson (fast, easy to produce/see). (post/comment, comment/comment)\n",
    "    - Global Feature set (most predictive words)\n",
    "    - RF tree as well\n",
    "\n",
    "- Be very clear about benchmark and analysis\n",
    "- Frame as a weak supervision over large corpora\n",
    "\n",
    "- Explicit, we only benchmark this task because ... \n",
    "- we believe our dataset is useful for... we can't do this because of space constraints/out of scope. \n",
    "- Things you can't do with other datasets that are available. \n",
    "- Limitation scope\n",
    "- Have standard deviation for all results\n",
    "- 5 fold cross validation"
   ]
  },
  {
   "cell_type": "code",
   "execution_count": 58,
   "id": "d6fa0d84-ea3f-4955-90b8-3a0a8ede1246",
   "metadata": {},
   "outputs": [],
   "source": [
    "from sklearn.feature_extraction.text import TfidfVectorizer\n",
    "\n",
    "doctor_comments = []\n",
    "layperson_comments = []\n",
    "\n",
    "for author_type, tokens in tokens_comments.items():\n",
    "    if \"yet been verified\" in author_type.lower():\n",
    "        continue\n",
    "    \n",
    "    if \"nan\" == author_type:\n",
    "        continue\n",
    "    \n",
    "    if \"layperson\" in author_type.lower():\n",
    "        for t in tokens:\n",
    "            layperson_comments.append(\" \".join(t))\n",
    "    \n",
    "    if author_type == \"Physician\":\n",
    "        for t in tokens:\n",
    "            doctor_comments.append(\" \".join(t))"
   ]
  },
  {
   "cell_type": "code",
   "execution_count": null,
   "id": "ccacdca0-1bd0-491e-9d83-dd02bea65e2a",
   "metadata": {},
   "outputs": [],
   "source": [
    "from sklearn.utils.random import sample_without_replacement\n",
    "import numpy as np\n",
    "\n",
    "samples = sample_without_replacement(len(layperson_comments), len(doctor_comments))"
   ]
  },
  {
   "cell_type": "code",
   "execution_count": null,
   "id": "91f6886d-cfd2-47be-914f-86ce0f137394",
   "metadata": {},
   "outputs": [],
   "source": [
    "layperson_comments_new = []\n",
    "\n",
    "for idx in samples:\n",
    "    layperson_comments_new.append(layperson_comments[idx])"
   ]
  },
  {
   "cell_type": "markdown",
   "id": "e5e437f8-af72-4cbf-baac-0748ddc4d0e7",
   "metadata": {},
   "source": [
    "len(doctor_comments) * 2"
   ]
  },
  {
   "cell_type": "code",
   "execution_count": null,
   "id": "5487823d-4244-416b-9889-55c4dc70e3cd",
   "metadata": {},
   "outputs": [],
   "source": [
    "vectorizer = TfidfVectorizer()\n",
    "X = vectorizer.fit_transform(doctor_comments + layperson_comments_new)"
   ]
  },
  {
   "cell_type": "code",
   "execution_count": null,
   "id": "3ce82a25-c989-4856-b32b-944cdec74fee",
   "metadata": {},
   "outputs": [],
   "source": [
    "y = [1 for x in range(len(doctor_comments))] + [0 for x in range(len(doctor_comments))]"
   ]
  },
  {
   "cell_type": "markdown",
   "id": "15f3e556-4a17-4a6c-988d-ea8341897548",
   "metadata": {},
   "source": [
    "len(doctor_comments)"
   ]
  },
  {
   "cell_type": "markdown",
   "id": "a3cf36f1-1808-44e6-8f7e-f1a3ed81fd58",
   "metadata": {},
   "source": [
    "len(layperson_comments)"
   ]
  },
  {
   "cell_type": "markdown",
   "id": "2786a608-0509-439d-a0fe-1d711683563f",
   "metadata": {},
   "source": [
    "1 - len(doctor_comments) / (len(layperson_comments) + len(doctor_comments))"
   ]
  },
  {
   "cell_type": "markdown",
   "id": "5af4845a-7233-41f9-9e87-6952dc7cf359",
   "metadata": {},
   "source": [
    "clf.score(X,y)"
   ]
  },
  {
   "cell_type": "markdown",
   "id": "6e6df0e5-293d-4828-9b8f-26f413e14fef",
   "metadata": {
    "tags": []
   },
   "source": [
    "len(list(filter(lambda k: k > 0.0, clf.coef_[0])))"
   ]
  },
  {
   "cell_type": "markdown",
   "id": "bd740c74-50b2-4d72-b758-5c4bf4146de6",
   "metadata": {},
   "source": [
    "len(clf.coef_[0])"
   ]
  },
  {
   "cell_type": "markdown",
   "id": "95303a09-9cca-4f87-9a5b-6c61c923d1ee",
   "metadata": {},
   "source": [
    "vectorizer.get_feature_names_out()[clf.coef_[0].astype(bool)]"
   ]
  },
  {
   "cell_type": "markdown",
   "id": "0571d2a4-c861-4df2-8509-024132c91eea",
   "metadata": {},
   "source": [
    "preds = np.exp(clf.predict_log_proba(X))"
   ]
  },
  {
   "cell_type": "markdown",
   "id": "2f496acd-7274-4917-98aa-66a7464e588b",
   "metadata": {},
   "source": [
    "index = []\n",
    "\n",
    "# K largest for class 1\n",
    "k_largest_class_1 = np.argsort(preds[:,1])[-10:]\n",
    "k_largest_class_0 = np.argsort(preds[:,0])[-10:]"
   ]
  },
  {
   "cell_type": "markdown",
   "id": "80b37ed7-4dce-40aa-8618-beb3f8e01e81",
   "metadata": {},
   "source": [
    "preds[100]"
   ]
  },
  {
   "cell_type": "markdown",
   "id": "fa701346-cf20-46a2-8372-09c44c27d755",
   "metadata": {},
   "source": [
    "k_largest_class_0"
   ]
  },
  {
   "cell_type": "markdown",
   "id": "7c985d9e-8676-4e99-9c1c-fa483601d5d1",
   "metadata": {},
   "source": [
    "doctor_comments[10]"
   ]
  },
  {
   "cell_type": "markdown",
   "id": "99f52e40-d13b-49ca-89b3-b5baf146c5b4",
   "metadata": {},
   "source": [
    "doctor_comments[100]"
   ]
  },
  {
   "cell_type": "markdown",
   "id": "da0cba05-bb62-42a2-a4dc-c3148668349f",
   "metadata": {},
   "source": [
    "inverse_dictionary = {}\n",
    "\n",
    "features = vectorizer.get_feature_names_out()\n",
    "\n",
    "for i, coef in enumerate(clf.coef_[0]):\n",
    "    inverse_dictionary[features[i]] = coef"
   ]
  },
  {
   "cell_type": "markdown",
   "id": "7a2d4991-f7ce-4ff7-bc12-526d0e6cbd26",
   "metadata": {},
   "source": [
    "probs = {}\n",
    "\n",
    "for word in doctor_comments[100].split():\n",
    "    try:\n",
    "        probs[word] = (inverse_dictionary[word])\n",
    "    except:\n",
    "        continue"
   ]
  },
  {
   "cell_type": "code",
   "execution_count": null,
   "id": "b1d5c16f-417a-4ce6-87fb-69690165dd6e",
   "metadata": {},
   "outputs": [],
   "source": [
    "X.shape"
   ]
  },
  {
   "cell_type": "code",
   "execution_count": null,
   "id": "5f51e8f3-9330-46de-b484-9cc3a4c53b52",
   "metadata": {},
   "outputs": [],
   "source": [
    "import dill\n",
    "\n",
    "dill.dump([X, np.array(y)], open(\"temp.dill\", \"wb+\"))"
   ]
  },
  {
   "cell_type": "code",
   "execution_count": null,
   "id": "9067fcf6-c45f-45b1-ba4a-e4f3c1664d55",
   "metadata": {},
   "outputs": [],
   "source": [
    "np.array(y)"
   ]
  },
  {
   "cell_type": "code",
   "execution_count": null,
   "id": "df6cf378-3cee-4363-817c-c466ee4ac371",
   "metadata": {},
   "outputs": [],
   "source": [
    "import dill\n",
    "\n",
    "X, y = dill.load(open(\"temp.dill\", \"rb\"))\n",
    "y"
   ]
  },
  {
   "cell_type": "code",
   "execution_count": null,
   "id": "e74f18fb-cb04-4b1c-a74f-4c0c65a4cf5c",
   "metadata": {
    "tags": []
   },
   "outputs": [],
   "source": [
    "from sklearn.tree import DecisionTreeClassifier\n",
    "from sklearn.ensemble import RandomForestClassifier\n",
    "from sklearn.inspection import permutation_importance\n",
    "\n",
    "clf = RandomForestClassifier(random_state=42)\n",
    "clf.fit(X,y)\n",
    "\n",
    "#result = permutation_importance(clf, X.toarray(), y, n_repeats=10,\n",
    "#                                random_state=42, n_jobs=8)\n",
    "\n",
    "importances = clf.feature_importances_\n",
    "std = np.std([tree.feature_importances_ for tree in clf.estimators_], axis=0)"
   ]
  },
  {
   "cell_type": "code",
   "execution_count": null,
   "id": "725402d6-a8e5-4adf-9203-86482ae9e50d",
   "metadata": {},
   "outputs": [],
   "source": [
    "clf.score(X,y)"
   ]
  },
  {
   "cell_type": "code",
   "execution_count": 39,
   "id": "a4c1a1b9-0112-4601-97cc-46b86c13d518",
   "metadata": {},
   "outputs": [],
   "source": [
    "import pandas as pd\n",
    "import matplotlib.pyplot as plt\n",
    "\n",
    "forest_importances = pd.Series(importances, index=vectorizer.get_feature_names_out())"
   ]
  },
  {
   "cell_type": "code",
   "execution_count": 44,
   "id": "8c94828c-e872-4332-a24f-70236c4076a3",
   "metadata": {},
   "outputs": [
    {
     "data": {
      "text/plain": [
       "you           0.013880\n",
       "it            0.011491\n",
       "covid         0.011490\n",
       "your          0.010698\n",
       "risk          0.009790\n",
       "delet         0.008812\n",
       "the           0.008577\n",
       "help          0.008324\n",
       "to            0.007694\n",
       "and           0.007458\n",
       "that          0.007120\n",
       "thank         0.006954\n",
       "not           0.006672\n",
       "is            0.006333\n",
       "in            0.006284\n",
       "for           0.006277\n",
       "viru          0.006229\n",
       "of            0.006170\n",
       "see           0.005901\n",
       "thi           0.005502\n",
       "have          0.005406\n",
       "get           0.005398\n",
       "be            0.005390\n",
       "if            0.005308\n",
       "feel          0.005283\n",
       "are           0.005261\n",
       "no            0.005210\n",
       "my            0.004844\n",
       "just          0.004809\n",
       "but           0.004781\n",
       "or            0.004715\n",
       "with          0.004601\n",
       "look          0.004599\n",
       "like          0.004583\n",
       "local         0.004551\n",
       "cough         0.004327\n",
       "what          0.004300\n",
       "we            0.004157\n",
       "throat        0.004032\n",
       "coronaviru    0.003935\n",
       "nad           0.003842\n",
       "re            0.003737\n",
       "ani           0.003721\n",
       "so            0.003708\n",
       "do            0.003672\n",
       "veri          0.003648\n",
       "isol          0.003584\n",
       "can           0.003580\n",
       "an            0.003502\n",
       "on            0.003416\n",
       "dtype: float64"
      ]
     },
     "execution_count": 44,
     "metadata": {},
     "output_type": "execute_result"
    }
   ],
   "source": [
    "forest_importances.sort_values(ascending=False)[0:50]"
   ]
  },
  {
   "cell_type": "code",
   "execution_count": 48,
   "id": "e43e1327-cc5a-4d4c-b24b-52431ca7acdb",
   "metadata": {},
   "outputs": [],
   "source": [
    "import shap\n",
    "\n",
    "explainer = shap.TreeExplainer(clf)\n",
    "shap_values = explainer.shap_values(X.toarray(), approximate=True)"
   ]
  },
  {
   "cell_type": "code",
   "execution_count": 49,
   "id": "9a9343d9-2f42-4f8e-8ecb-cb89c707ecaf",
   "metadata": {},
   "outputs": [
    {
     "data": {
      "image/png": "[encoded data removed]",
      "text/plain": [
       "<Figure size 800x950 with 1 Axes>"
      ]
     },
     "metadata": {},
     "output_type": "display_data"
    }
   ],
   "source": [
    "shap.summary_plot(shap_values, X.toarray())"
   ]
  },
  {
   "cell_type": "code",
   "execution_count": 56,
   "id": "2ae86b37-24d5-4156-a331-cbd7b0676d99",
   "metadata": {},
   "outputs": [
    {
     "data": {
      "text/plain": [
       "'it'"
      ]
     },
     "execution_count": 56,
     "metadata": {},
     "output_type": "execute_result"
    }
   ],
   "source": [
    "vectorizer.get_feature_names_out()[3035]"
   ]
  },
  {
   "cell_type": "code",
   "execution_count": 60,
   "id": "24f660f3-43fb-442c-929c-9239e06f514f",
   "metadata": {},
   "outputs": [
    {
     "data": {
      "text/plain": [
       "'help'"
      ]
     },
     "execution_count": 60,
     "metadata": {},
     "output_type": "execute_result"
    }
   ],
   "source": [
    "vectorizer.get_feature_names_out()[2626]"
   ]
  },
  {
   "cell_type": "code",
   "execution_count": 86,
   "id": "edf30605-9d1d-4ade-8a86-e9492d3675dc",
   "metadata": {},
   "outputs": [
    {
     "data": {
      "image/png": "[encoded data removed]",
      "text/plain": [
       "<Figure size 800x950 with 2 Axes>"
      ]
     },
     "metadata": {},
     "output_type": "display_data"
    }
   ],
   "source": [
    "shap.summary_plot(shap_values[0], X)"
   ]
  },
  {
   "cell_type": "code",
   "execution_count": 70,
   "id": "3c34bf82-25bd-4da2-9875-518d42cf7891",
   "metadata": {},
   "outputs": [
    {
     "data": {
      "text/plain": [
       "'viru'"
      ]
     },
     "execution_count": 70,
     "metadata": {},
     "output_type": "execute_result"
    }
   ],
   "source": [
    "vectorizer.get_feature_names_out()[6085]"
   ]
  },
  {
   "cell_type": "code",
   "execution_count": 71,
   "id": "2fc7b4b8-1fd1-4ae5-ab5f-32974c2532aa",
   "metadata": {},
   "outputs": [
    {
     "data": {
      "text/plain": [
       "'we'"
      ]
     },
     "execution_count": 71,
     "metadata": {},
     "output_type": "execute_result"
    }
   ],
   "source": [
    "vectorizer.get_feature_names_out()[6151]"
   ]
  },
  {
   "cell_type": "code",
   "execution_count": 73,
   "id": "06e346c4-cbab-4832-97b0-3c085d63bf18",
   "metadata": {},
   "outputs": [
    {
     "data": {
      "text/plain": [
       "'cough'"
      ]
     },
     "execution_count": 73,
     "metadata": {},
     "output_type": "execute_result"
    }
   ],
   "source": [
    "vectorizer.get_feature_names_out()[1366]"
   ]
  },
  {
   "cell_type": "code",
   "execution_count": 85,
   "id": "d5e887e0-1eeb-4466-98e8-d0c79d00f488",
   "metadata": {},
   "outputs": [
    {
     "data": {
      "text/plain": [
       "'covid'"
      ]
     },
     "execution_count": 85,
     "metadata": {},
     "output_type": "execute_result"
    }
   ],
   "source": [
    "vectorizer.get_feature_names_out()[1385]"
   ]
  },
  {
   "cell_type": "code",
   "execution_count": 87,
   "id": "00feb0b5-7107-4f46-9237-a6caec397e3c",
   "metadata": {},
   "outputs": [
    {
     "data": {
      "text/plain": [
       "'feel'"
      ]
     },
     "execution_count": 87,
     "metadata": {},
     "output_type": "execute_result"
    }
   ],
   "source": [
    "vectorizer.get_feature_names_out()[2147]"
   ]
  },
  {
   "cell_type": "code",
   "execution_count": 88,
   "id": "9b79ebce-78c3-4235-8965-2457ecdc868a",
   "metadata": {},
   "outputs": [
    {
     "data": {
      "text/plain": [
       "'risk'"
      ]
     },
     "execution_count": 88,
     "metadata": {},
     "output_type": "execute_result"
    }
   ],
   "source": [
    "vectorizer.get_feature_names_out()[4775]"
   ]
  },
  {
   "cell_type": "code",
   "execution_count": null,
   "id": "e87566fa-00dc-49a3-a5b0-6bbbf5592aae",
   "metadata": {},
   "outputs": [],
   "source": [
    "# Try ChatGPT or GPT-3\n",
    "\n",
    "# metric (MRR)\n",
    "\n",
    "# Scrap (cannot justify)\n",
    "# Preference based metric \n",
    "# Two systems of known relevant (evaluation), compare across all questions, ranking of the known postives"
   ]
  }
 ],
 "metadata": {
  "kernelspec": {
   "display_name": "Python 3 (ipykernel)",
   "language": "python",
   "name": "python3"
  },
  "language_info": {
   "codemirror_mode": {
    "name": "ipython",
    "version": 3
   },
   "file_extension": ".py",
   "mimetype": "text/x-python",
   "name": "python",
   "nbconvert_exporter": "python",
   "pygments_lexer": "ipython3",
   "version": "3.10.8"
  }
 },
 "nbformat": 4,
 "nbformat_minor": 5
}
